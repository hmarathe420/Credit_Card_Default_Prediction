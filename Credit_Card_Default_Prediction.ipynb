{
  "nbformat": 4,
  "nbformat_minor": 0,
  "metadata": {
    "colab": {
      "provenance": [],
      "collapsed_sections": [
        "mDgbUHAGgjLW",
        "Y3lxredqlCYt",
        "x71ZqKXriCWQ",
        "7hBIi_osiCS2",
        "JlHwYmJAmNHm",
        "35m5QtbWiB9F",
        "PoPl-ycgm1ru",
        "H0kj-8xxnORC",
        "dauF4eBmngu3",
        "bKJF3rekwFvQ",
        "MSa1f5Uengrz",
        "0wOQAZs5pc--",
        "K5QZ13OEpz2H",
        "lQ7QKXXCp7Bj",
        "KSlN3yHqYklG",
        "t6dVpIINYklI",
        "ijmpgYnKYklI",
        "EM7whBJCYoAo",
        "fge-S5ZAYoAp",
        "85gYPyotYoAp",
        "4Of9eVA-YrdM",
        "bamQiAODYuh1",
        "QHF8YVU7Yuh3",
        "GwzvFGzlYuh3",
        "qYpmQ266Yuh3",
        "OH-pJp9IphqM",
        "bbFf2-_FphqN",
        "_ouA3fa0phqN",
        "Seke61FWphqN",
        "PIIx-8_IphqN",
        "t27r6nlMphqO",
        "r2jJGEOYphqO",
        "b0JNsNcRphqO",
        "BZR9WyysphqO",
        "jj7wYXLtphqO",
        "eZrbJ2SmphqO",
        "rFu4xreNphqO",
        "YJ55k-q6phqO",
        "gCFgpxoyphqP",
        "OVtJsKN_phqQ",
        "lssrdh5qphqQ",
        "U2RJ9gkRphqQ",
        "1M8mcRywphqQ",
        "tgIPom80phqQ",
        "JMzcOPDDphqR",
        "x-EpHcCOp1ci",
        "X_VqEhTip1ck",
        "8zGJKyg5p1ck",
        "PVzmfK_Ep1ck",
        "n3dbpmDWp1ck",
        "ylSl6qgtp1ck",
        "ZWILFDl5p1ck",
        "M7G43BXep1ck",
        "Ag9LCva-p1cl",
        "E6MkPsBcp1cl",
        "2cELzS2fp1cl",
        "3MPXvC8up1cl",
        "NC_X3p0fY2L0",
        "UV0SzAkaZNRQ",
        "YPEH6qLeZNRQ",
        "q29F0dvdveiT",
        "EXh0U9oCveiU",
        "22aHeOlLveiV",
        "g-ATYxFrGrvw",
        "Yfr_Vlr8HBkt",
        "8yEUt7NnHlrM",
        "tEA2Xm5dHt1r",
        "I79__PHVH19G",
        "Ou-I18pAyIpj",
        "fF3858GYyt-u",
        "4_0_7-oCpUZd",
        "hwyV_J3ipUZe",
        "3yB-zSqbpUZe",
        "dEUvejAfpUZe",
        "Fd15vwWVpUZf",
        "bn_IUdTipZyH",
        "49K5P_iCpZyH",
        "Nff-vKELpZyI",
        "kLW572S8pZyI",
        "dWbDXHzopZyI",
        "yLjJCtPM0KBk",
        "xiyOF9F70UgQ",
        "7wuGOrhz0itI",
        "id1riN9m0vUs",
        "578E2V7j08f6",
        "89xtkJwZ18nB",
        "67NQN5KX2AMe",
        "Iwf50b-R2tYG",
        "GMQiZwjn3iu7",
        "WVIkgGqN3qsr",
        "XkPnILGE3zoT",
        "Hlsf0x5436Go",
        "mT9DMSJo4nBL",
        "c49ITxTc407N",
        "OeJFEK0N496M",
        "9ExmJH0g5HBk",
        "cJNqERVU536h",
        "k5UmGsbsOxih",
        "T0VqWOYE6DLQ",
        "qBMux9mC6MCf",
        "-oLEiFgy-5Pf",
        "C74aWNz2AliB",
        "2DejudWSA-a0",
        "pEMng2IbBLp7",
        "rAdphbQ9Bhjc",
        "TNVZ9zx19K6k",
        "nqoHp30x9hH9",
        "rMDnDkt2B6du",
        "yiiVWRdJDDil",
        "1UUpS68QDMuG",
        "kexQrXU-DjzY",
        "T5CmagL3EC8N",
        "BhH2vgX9EjGr",
        "qjKvONjwE8ra",
        "P1XJ9OREExlT",
        "VFOzZv6IFROw",
        "TIqpNgepFxVj",
        "VfCC591jGiD4",
        "OB4l2ZhMeS1U",
        "ArJBuiUVfxKd",
        "4qY1EAkEfxKe",
        "PiV4Ypx8fxKe",
        "TfvqoZmBfxKf",
        "dJ2tPlVmpsJ0",
        "JWYfwnehpsJ1",
        "-jK_YjpMpsJ2",
        "HAih1iBOpsJ2",
        "zVGeBEFhpsJ2",
        "bmKjuQ-FpsJ3",
        "Fze-IPXLpx6K",
        "7AN1z2sKpx6M",
        "9PIHJqyupx6M",
        "_-qAgymDpx6N",
        "Z-hykwinpx6N",
        "h_CCil-SKHpo",
        "cBFFvTBNJzUa",
        "HvGl1hHyA_VK",
        "EyNgTHvd2WFk",
        "KH5McJBi2d8v",
        "iW_Lq9qf2h6X",
        "-Kee-DAl2viO",
        "gCX9965dhzqZ",
        "gIfDvo9L0UH2"
      ],
      "cell_execution_strategy": "setup",
      "include_colab_link": true
    },
    "kernelspec": {
      "name": "python3",
      "display_name": "Python 3"
    },
    "language_info": {
      "name": "python"
    }
  },
  "cells": [
    {
      "cell_type": "markdown",
      "metadata": {
        "id": "view-in-github",
        "colab_type": "text"
      },
      "source": [
        "<a href=\"https://colab.research.google.com/github/hmarathe420/Credit_Card_Default_Prediction/blob/main/Credit_Card_Default_Prediction.ipynb\" target=\"_parent\"><img src=\"https://colab.research.google.com/assets/colab-badge.svg\" alt=\"Open In Colab\"/></a>"
      ]
    },
    {
      "cell_type": "markdown",
      "source": [
        "# **Project Name**    -\n",
        "\n"
      ],
      "metadata": {
        "id": "vncDsAP0Gaoa"
      }
    },
    {
      "cell_type": "markdown",
      "source": [
        "##### **Project Type**    - Classification\n",
        "##### **Contribution**    - Individual\n",
        "##### **Name**            - Harshal Marathe  \n"
      ],
      "metadata": {
        "id": "beRrZCGUAJYm"
      }
    },
    {
      "cell_type": "markdown",
      "source": [
        "# **Project Summary -**"
      ],
      "metadata": {
        "id": "FJNUwmbgGyua"
      }
    },
    {
      "cell_type": "markdown",
      "source": [
        "Write the summary here within 500-600 words."
      ],
      "metadata": {
        "id": "F6v_1wHtG2nS"
      }
    },
    {
      "cell_type": "markdown",
      "source": [
        "# **GitHub Link -**"
      ],
      "metadata": {
        "id": "w6K7xa23Elo4"
      }
    },
    {
      "cell_type": "markdown",
      "source": [
        "Provide your GitHub Link here."
      ],
      "metadata": {
        "id": "h1o69JH3Eqqn"
      }
    },
    {
      "cell_type": "markdown",
      "source": [
        "# **Problem Statement**\n"
      ],
      "metadata": {
        "id": "yQaldy8SH6Dl"
      }
    },
    {
      "cell_type": "markdown",
      "source": [
        "**Write Problem Statement Here.**"
      ],
      "metadata": {
        "id": "DpeJGUA3kjGy"
      }
    },
    {
      "cell_type": "markdown",
      "source": [
        "# **General Guidelines** : -  "
      ],
      "metadata": {
        "id": "mDgbUHAGgjLW"
      }
    },
    {
      "cell_type": "markdown",
      "source": [
        "1.   Well-structured, formatted, and commented code is required.\n",
        "2.   Exception Handling, Production Grade Code & Deployment Ready Code will be a plus. Those students will be awarded some additional credits.\n",
        "     \n",
        "     The additional credits will have advantages over other students during Star Student selection.\n",
        "       \n",
        "             [ Note: - Deployment Ready Code is defined as, the whole .ipynb notebook should be executable in one go\n",
        "                       without a single error logged. ]\n",
        "\n",
        "3.   Each and every logic should have proper comments.\n",
        "4. You may add as many number of charts you want. Make Sure for each and every chart the following format should be answered.\n",
        "        \n",
        "\n",
        "```\n",
        "# Chart visualization code\n",
        "```\n",
        "            \n",
        "\n",
        "*   Why did you pick the specific chart?\n",
        "*   What is/are the insight(s) found from the chart?\n",
        "* Will the gained insights help creating a positive business impact?\n",
        "Are there any insights that lead to negative growth? Justify with specific reason.\n",
        "\n",
        "5. You have to create at least 15 logical & meaningful charts having important insights.\n",
        "\n",
        "\n",
        "[ Hints : - Do the Vizualization in  a structured way while following \"UBM\" Rule.\n",
        "\n",
        "U - Univariate Analysis,\n",
        "\n",
        "B - Bivariate Analysis (Numerical - Categorical, Numerical - Numerical, Categorical - Categorical)\n",
        "\n",
        "M - Multivariate Analysis\n",
        " ]\n",
        "\n",
        "\n",
        "\n",
        "\n",
        "\n",
        "6. You may add more ml algorithms for model creation. Make sure for each and every algorithm, the following format should be answered.\n",
        "\n",
        "\n",
        "*   Explain the ML Model used and it's performance using Evaluation metric Score Chart.\n",
        "\n",
        "\n",
        "*   Cross- Validation & Hyperparameter Tuning\n",
        "\n",
        "*   Have you seen any improvement? Note down the improvement with updates Evaluation metric Score Chart.\n",
        "\n",
        "*   Explain each evaluation metric's indication towards business and the business impact pf the ML model used.\n",
        "\n",
        "\n",
        "\n",
        "\n",
        "\n",
        "\n",
        "\n",
        "\n",
        "\n",
        "\n",
        "\n",
        "\n",
        "\n",
        "\n",
        "\n",
        "\n",
        "\n",
        "\n"
      ],
      "metadata": {
        "id": "ZrxVaUj-hHfC"
      }
    },
    {
      "cell_type": "markdown",
      "source": [
        "# ***Let's Begin !***"
      ],
      "metadata": {
        "id": "O_i_v8NEhb9l"
      }
    },
    {
      "cell_type": "markdown",
      "source": [
        "## ***1. Know Your Data***"
      ],
      "metadata": {
        "id": "HhfV-JJviCcP"
      }
    },
    {
      "cell_type": "markdown",
      "source": [
        "### Import Libraries"
      ],
      "metadata": {
        "id": "Y3lxredqlCYt"
      }
    },
    {
      "cell_type": "code",
      "source": [
        "# Import Libraries\n",
        "import pandas as pd\n",
        "import numpy as np\n",
        "import matplotlib.pyplot as plt\n",
        "import seaborn as sns\n",
        "import missingno as msno"
      ],
      "metadata": {
        "id": "M8Vqi-pPk-HR"
      },
      "execution_count": 1,
      "outputs": []
    },
    {
      "cell_type": "markdown",
      "source": [
        "### Dataset Loading"
      ],
      "metadata": {
        "id": "3RnN4peoiCZX"
      }
    },
    {
      "cell_type": "code",
      "source": [
        "# Mounting the google drive for accessing the dataset\n",
        "from google.colab import drive\n",
        "drive.mount('/content/drive')"
      ],
      "metadata": {
        "colab": {
          "base_uri": "https://localhost:8080/"
        },
        "id": "x8AFaOnRo4H9",
        "outputId": "aa4eb900-b98a-4251-bd6a-cadc236c31ff"
      },
      "execution_count": 2,
      "outputs": [
        {
          "output_type": "stream",
          "name": "stdout",
          "text": [
            "Mounted at /content/drive\n"
          ]
        }
      ]
    },
    {
      "cell_type": "code",
      "source": [
        "# Loading the Dataset\n",
        "df = pd.read_csv(\"/content/drive/MyDrive/Credit Card Default Prediction/default of credit card clients.xls - Data.csv\", header= 1)"
      ],
      "metadata": {
        "id": "4CkvbW_SlZ_R"
      },
      "execution_count": 3,
      "outputs": []
    },
    {
      "cell_type": "code",
      "source": [
        "# Removing the index if there is\n",
        "df.reset_index(drop = True , inplace = True)"
      ],
      "metadata": {
        "id": "13gCIfz5pWdw"
      },
      "execution_count": 4,
      "outputs": []
    },
    {
      "cell_type": "markdown",
      "source": [
        "### Dataset First View"
      ],
      "metadata": {
        "id": "x71ZqKXriCWQ"
      }
    },
    {
      "cell_type": "code",
      "source": [
        "# Dataset First Look\n",
        "df.head()"
      ],
      "metadata": {
        "id": "LWNFOSvLl09H",
        "colab": {
          "base_uri": "https://localhost:8080/",
          "height": 0
        },
        "outputId": "c37ae5c7-a3ba-4267-fed5-1fe948b6e307"
      },
      "execution_count": 5,
      "outputs": [
        {
          "output_type": "execute_result",
          "data": {
            "text/plain": [
              "   ID  LIMIT_BAL  SEX  EDUCATION  MARRIAGE  AGE  PAY_0  PAY_2  PAY_3  PAY_4  \\\n",
              "0   1      20000    2          2         1   24      2      2     -1     -1   \n",
              "1   2     120000    2          2         2   26     -1      2      0      0   \n",
              "2   3      90000    2          2         2   34      0      0      0      0   \n",
              "3   4      50000    2          2         1   37      0      0      0      0   \n",
              "4   5      50000    1          2         1   57     -1      0     -1      0   \n",
              "\n",
              "   ...  BILL_AMT4  BILL_AMT5  BILL_AMT6  PAY_AMT1  PAY_AMT2  PAY_AMT3  \\\n",
              "0  ...          0          0          0         0       689         0   \n",
              "1  ...       3272       3455       3261         0      1000      1000   \n",
              "2  ...      14331      14948      15549      1518      1500      1000   \n",
              "3  ...      28314      28959      29547      2000      2019      1200   \n",
              "4  ...      20940      19146      19131      2000     36681     10000   \n",
              "\n",
              "   PAY_AMT4  PAY_AMT5  PAY_AMT6  default payment next month  \n",
              "0         0         0         0                           1  \n",
              "1      1000         0      2000                           1  \n",
              "2      1000      1000      5000                           0  \n",
              "3      1100      1069      1000                           0  \n",
              "4      9000       689       679                           0  \n",
              "\n",
              "[5 rows x 25 columns]"
            ],
            "text/html": [
              "\n",
              "\n",
              "  <div id=\"df-02d73e67-aa12-4bdd-812c-ada6480440e7\">\n",
              "    <div class=\"colab-df-container\">\n",
              "      <div>\n",
              "<style scoped>\n",
              "    .dataframe tbody tr th:only-of-type {\n",
              "        vertical-align: middle;\n",
              "    }\n",
              "\n",
              "    .dataframe tbody tr th {\n",
              "        vertical-align: top;\n",
              "    }\n",
              "\n",
              "    .dataframe thead th {\n",
              "        text-align: right;\n",
              "    }\n",
              "</style>\n",
              "<table border=\"1\" class=\"dataframe\">\n",
              "  <thead>\n",
              "    <tr style=\"text-align: right;\">\n",
              "      <th></th>\n",
              "      <th>ID</th>\n",
              "      <th>LIMIT_BAL</th>\n",
              "      <th>SEX</th>\n",
              "      <th>EDUCATION</th>\n",
              "      <th>MARRIAGE</th>\n",
              "      <th>AGE</th>\n",
              "      <th>PAY_0</th>\n",
              "      <th>PAY_2</th>\n",
              "      <th>PAY_3</th>\n",
              "      <th>PAY_4</th>\n",
              "      <th>...</th>\n",
              "      <th>BILL_AMT4</th>\n",
              "      <th>BILL_AMT5</th>\n",
              "      <th>BILL_AMT6</th>\n",
              "      <th>PAY_AMT1</th>\n",
              "      <th>PAY_AMT2</th>\n",
              "      <th>PAY_AMT3</th>\n",
              "      <th>PAY_AMT4</th>\n",
              "      <th>PAY_AMT5</th>\n",
              "      <th>PAY_AMT6</th>\n",
              "      <th>default payment next month</th>\n",
              "    </tr>\n",
              "  </thead>\n",
              "  <tbody>\n",
              "    <tr>\n",
              "      <th>0</th>\n",
              "      <td>1</td>\n",
              "      <td>20000</td>\n",
              "      <td>2</td>\n",
              "      <td>2</td>\n",
              "      <td>1</td>\n",
              "      <td>24</td>\n",
              "      <td>2</td>\n",
              "      <td>2</td>\n",
              "      <td>-1</td>\n",
              "      <td>-1</td>\n",
              "      <td>...</td>\n",
              "      <td>0</td>\n",
              "      <td>0</td>\n",
              "      <td>0</td>\n",
              "      <td>0</td>\n",
              "      <td>689</td>\n",
              "      <td>0</td>\n",
              "      <td>0</td>\n",
              "      <td>0</td>\n",
              "      <td>0</td>\n",
              "      <td>1</td>\n",
              "    </tr>\n",
              "    <tr>\n",
              "      <th>1</th>\n",
              "      <td>2</td>\n",
              "      <td>120000</td>\n",
              "      <td>2</td>\n",
              "      <td>2</td>\n",
              "      <td>2</td>\n",
              "      <td>26</td>\n",
              "      <td>-1</td>\n",
              "      <td>2</td>\n",
              "      <td>0</td>\n",
              "      <td>0</td>\n",
              "      <td>...</td>\n",
              "      <td>3272</td>\n",
              "      <td>3455</td>\n",
              "      <td>3261</td>\n",
              "      <td>0</td>\n",
              "      <td>1000</td>\n",
              "      <td>1000</td>\n",
              "      <td>1000</td>\n",
              "      <td>0</td>\n",
              "      <td>2000</td>\n",
              "      <td>1</td>\n",
              "    </tr>\n",
              "    <tr>\n",
              "      <th>2</th>\n",
              "      <td>3</td>\n",
              "      <td>90000</td>\n",
              "      <td>2</td>\n",
              "      <td>2</td>\n",
              "      <td>2</td>\n",
              "      <td>34</td>\n",
              "      <td>0</td>\n",
              "      <td>0</td>\n",
              "      <td>0</td>\n",
              "      <td>0</td>\n",
              "      <td>...</td>\n",
              "      <td>14331</td>\n",
              "      <td>14948</td>\n",
              "      <td>15549</td>\n",
              "      <td>1518</td>\n",
              "      <td>1500</td>\n",
              "      <td>1000</td>\n",
              "      <td>1000</td>\n",
              "      <td>1000</td>\n",
              "      <td>5000</td>\n",
              "      <td>0</td>\n",
              "    </tr>\n",
              "    <tr>\n",
              "      <th>3</th>\n",
              "      <td>4</td>\n",
              "      <td>50000</td>\n",
              "      <td>2</td>\n",
              "      <td>2</td>\n",
              "      <td>1</td>\n",
              "      <td>37</td>\n",
              "      <td>0</td>\n",
              "      <td>0</td>\n",
              "      <td>0</td>\n",
              "      <td>0</td>\n",
              "      <td>...</td>\n",
              "      <td>28314</td>\n",
              "      <td>28959</td>\n",
              "      <td>29547</td>\n",
              "      <td>2000</td>\n",
              "      <td>2019</td>\n",
              "      <td>1200</td>\n",
              "      <td>1100</td>\n",
              "      <td>1069</td>\n",
              "      <td>1000</td>\n",
              "      <td>0</td>\n",
              "    </tr>\n",
              "    <tr>\n",
              "      <th>4</th>\n",
              "      <td>5</td>\n",
              "      <td>50000</td>\n",
              "      <td>1</td>\n",
              "      <td>2</td>\n",
              "      <td>1</td>\n",
              "      <td>57</td>\n",
              "      <td>-1</td>\n",
              "      <td>0</td>\n",
              "      <td>-1</td>\n",
              "      <td>0</td>\n",
              "      <td>...</td>\n",
              "      <td>20940</td>\n",
              "      <td>19146</td>\n",
              "      <td>19131</td>\n",
              "      <td>2000</td>\n",
              "      <td>36681</td>\n",
              "      <td>10000</td>\n",
              "      <td>9000</td>\n",
              "      <td>689</td>\n",
              "      <td>679</td>\n",
              "      <td>0</td>\n",
              "    </tr>\n",
              "  </tbody>\n",
              "</table>\n",
              "<p>5 rows × 25 columns</p>\n",
              "</div>\n",
              "      <button class=\"colab-df-convert\" onclick=\"convertToInteractive('df-02d73e67-aa12-4bdd-812c-ada6480440e7')\"\n",
              "              title=\"Convert this dataframe to an interactive table.\"\n",
              "              style=\"display:none;\">\n",
              "\n",
              "  <svg xmlns=\"http://www.w3.org/2000/svg\" height=\"24px\"viewBox=\"0 0 24 24\"\n",
              "       width=\"24px\">\n",
              "    <path d=\"M0 0h24v24H0V0z\" fill=\"none\"/>\n",
              "    <path d=\"M18.56 5.44l.94 2.06.94-2.06 2.06-.94-2.06-.94-.94-2.06-.94 2.06-2.06.94zm-11 1L8.5 8.5l.94-2.06 2.06-.94-2.06-.94L8.5 2.5l-.94 2.06-2.06.94zm10 10l.94 2.06.94-2.06 2.06-.94-2.06-.94-.94-2.06-.94 2.06-2.06.94z\"/><path d=\"M17.41 7.96l-1.37-1.37c-.4-.4-.92-.59-1.43-.59-.52 0-1.04.2-1.43.59L10.3 9.45l-7.72 7.72c-.78.78-.78 2.05 0 2.83L4 21.41c.39.39.9.59 1.41.59.51 0 1.02-.2 1.41-.59l7.78-7.78 2.81-2.81c.8-.78.8-2.07 0-2.86zM5.41 20L4 18.59l7.72-7.72 1.47 1.35L5.41 20z\"/>\n",
              "  </svg>\n",
              "      </button>\n",
              "\n",
              "\n",
              "\n",
              "    <div id=\"df-197d4ff6-aed1-478f-851c-435e1ee045df\">\n",
              "      <button class=\"colab-df-quickchart\" onclick=\"quickchart('df-197d4ff6-aed1-478f-851c-435e1ee045df')\"\n",
              "              title=\"Suggest charts.\"\n",
              "              style=\"display:none;\">\n",
              "\n",
              "<svg xmlns=\"http://www.w3.org/2000/svg\" height=\"24px\"viewBox=\"0 0 24 24\"\n",
              "     width=\"24px\">\n",
              "    <g>\n",
              "        <path d=\"M19 3H5c-1.1 0-2 .9-2 2v14c0 1.1.9 2 2 2h14c1.1 0 2-.9 2-2V5c0-1.1-.9-2-2-2zM9 17H7v-7h2v7zm4 0h-2V7h2v10zm4 0h-2v-4h2v4z\"/>\n",
              "    </g>\n",
              "</svg>\n",
              "      </button>\n",
              "    </div>\n",
              "\n",
              "<style>\n",
              "  .colab-df-quickchart {\n",
              "    background-color: #E8F0FE;\n",
              "    border: none;\n",
              "    border-radius: 50%;\n",
              "    cursor: pointer;\n",
              "    display: none;\n",
              "    fill: #1967D2;\n",
              "    height: 32px;\n",
              "    padding: 0 0 0 0;\n",
              "    width: 32px;\n",
              "  }\n",
              "\n",
              "  .colab-df-quickchart:hover {\n",
              "    background-color: #E2EBFA;\n",
              "    box-shadow: 0px 1px 2px rgba(60, 64, 67, 0.3), 0px 1px 3px 1px rgba(60, 64, 67, 0.15);\n",
              "    fill: #174EA6;\n",
              "  }\n",
              "\n",
              "  [theme=dark] .colab-df-quickchart {\n",
              "    background-color: #3B4455;\n",
              "    fill: #D2E3FC;\n",
              "  }\n",
              "\n",
              "  [theme=dark] .colab-df-quickchart:hover {\n",
              "    background-color: #434B5C;\n",
              "    box-shadow: 0px 1px 3px 1px rgba(0, 0, 0, 0.15);\n",
              "    filter: drop-shadow(0px 1px 2px rgba(0, 0, 0, 0.3));\n",
              "    fill: #FFFFFF;\n",
              "  }\n",
              "</style>\n",
              "\n",
              "    <script>\n",
              "      async function quickchart(key) {\n",
              "        const containerElement = document.querySelector('#' + key);\n",
              "        const charts = await google.colab.kernel.invokeFunction(\n",
              "            'suggestCharts', [key], {});\n",
              "      }\n",
              "    </script>\n",
              "\n",
              "      <script>\n",
              "\n",
              "function displayQuickchartButton(domScope) {\n",
              "  let quickchartButtonEl =\n",
              "    domScope.querySelector('#df-197d4ff6-aed1-478f-851c-435e1ee045df button.colab-df-quickchart');\n",
              "  quickchartButtonEl.style.display =\n",
              "    google.colab.kernel.accessAllowed ? 'block' : 'none';\n",
              "}\n",
              "\n",
              "        displayQuickchartButton(document);\n",
              "      </script>\n",
              "      <style>\n",
              "    .colab-df-container {\n",
              "      display:flex;\n",
              "      flex-wrap:wrap;\n",
              "      gap: 12px;\n",
              "    }\n",
              "\n",
              "    .colab-df-convert {\n",
              "      background-color: #E8F0FE;\n",
              "      border: none;\n",
              "      border-radius: 50%;\n",
              "      cursor: pointer;\n",
              "      display: none;\n",
              "      fill: #1967D2;\n",
              "      height: 32px;\n",
              "      padding: 0 0 0 0;\n",
              "      width: 32px;\n",
              "    }\n",
              "\n",
              "    .colab-df-convert:hover {\n",
              "      background-color: #E2EBFA;\n",
              "      box-shadow: 0px 1px 2px rgba(60, 64, 67, 0.3), 0px 1px 3px 1px rgba(60, 64, 67, 0.15);\n",
              "      fill: #174EA6;\n",
              "    }\n",
              "\n",
              "    [theme=dark] .colab-df-convert {\n",
              "      background-color: #3B4455;\n",
              "      fill: #D2E3FC;\n",
              "    }\n",
              "\n",
              "    [theme=dark] .colab-df-convert:hover {\n",
              "      background-color: #434B5C;\n",
              "      box-shadow: 0px 1px 3px 1px rgba(0, 0, 0, 0.15);\n",
              "      filter: drop-shadow(0px 1px 2px rgba(0, 0, 0, 0.3));\n",
              "      fill: #FFFFFF;\n",
              "    }\n",
              "  </style>\n",
              "\n",
              "      <script>\n",
              "        const buttonEl =\n",
              "          document.querySelector('#df-02d73e67-aa12-4bdd-812c-ada6480440e7 button.colab-df-convert');\n",
              "        buttonEl.style.display =\n",
              "          google.colab.kernel.accessAllowed ? 'block' : 'none';\n",
              "\n",
              "        async function convertToInteractive(key) {\n",
              "          const element = document.querySelector('#df-02d73e67-aa12-4bdd-812c-ada6480440e7');\n",
              "          const dataTable =\n",
              "            await google.colab.kernel.invokeFunction('convertToInteractive',\n",
              "                                                     [key], {});\n",
              "          if (!dataTable) return;\n",
              "\n",
              "          const docLinkHtml = 'Like what you see? Visit the ' +\n",
              "            '<a target=\"_blank\" href=https://colab.research.google.com/notebooks/data_table.ipynb>data table notebook</a>'\n",
              "            + ' to learn more about interactive tables.';\n",
              "          element.innerHTML = '';\n",
              "          dataTable['output_type'] = 'display_data';\n",
              "          await google.colab.output.renderOutput(dataTable, element);\n",
              "          const docLink = document.createElement('div');\n",
              "          docLink.innerHTML = docLinkHtml;\n",
              "          element.appendChild(docLink);\n",
              "        }\n",
              "      </script>\n",
              "    </div>\n",
              "  </div>\n"
            ]
          },
          "metadata": {},
          "execution_count": 5
        }
      ]
    },
    {
      "cell_type": "markdown",
      "source": [
        "### Dataset Rows & Columns count"
      ],
      "metadata": {
        "id": "7hBIi_osiCS2"
      }
    },
    {
      "cell_type": "code",
      "source": [
        "# Dataset Rows & Columns count\n",
        "print(f'The dataset has {df.shape[1]} columns & {df.shape[0]} Rows.')"
      ],
      "metadata": {
        "id": "Kllu7SJgmLij",
        "colab": {
          "base_uri": "https://localhost:8080/"
        },
        "outputId": "d1761682-4d23-4c0e-d4e1-1f6aeca3601b"
      },
      "execution_count": 6,
      "outputs": [
        {
          "output_type": "stream",
          "name": "stdout",
          "text": [
            "The dataset has 25 columns & 30000 Rows.\n"
          ]
        }
      ]
    },
    {
      "cell_type": "markdown",
      "source": [
        "### Dataset Information"
      ],
      "metadata": {
        "id": "JlHwYmJAmNHm"
      }
    },
    {
      "cell_type": "code",
      "source": [
        "# Dataset Info\n",
        "df.info()"
      ],
      "metadata": {
        "id": "e9hRXRi6meOf",
        "colab": {
          "base_uri": "https://localhost:8080/"
        },
        "outputId": "ddd0613d-985f-4c5a-afad-937c442e2acc"
      },
      "execution_count": 7,
      "outputs": [
        {
          "output_type": "stream",
          "name": "stdout",
          "text": [
            "<class 'pandas.core.frame.DataFrame'>\n",
            "RangeIndex: 30000 entries, 0 to 29999\n",
            "Data columns (total 25 columns):\n",
            " #   Column                      Non-Null Count  Dtype\n",
            "---  ------                      --------------  -----\n",
            " 0   ID                          30000 non-null  int64\n",
            " 1   LIMIT_BAL                   30000 non-null  int64\n",
            " 2   SEX                         30000 non-null  int64\n",
            " 3   EDUCATION                   30000 non-null  int64\n",
            " 4   MARRIAGE                    30000 non-null  int64\n",
            " 5   AGE                         30000 non-null  int64\n",
            " 6   PAY_0                       30000 non-null  int64\n",
            " 7   PAY_2                       30000 non-null  int64\n",
            " 8   PAY_3                       30000 non-null  int64\n",
            " 9   PAY_4                       30000 non-null  int64\n",
            " 10  PAY_5                       30000 non-null  int64\n",
            " 11  PAY_6                       30000 non-null  int64\n",
            " 12  BILL_AMT1                   30000 non-null  int64\n",
            " 13  BILL_AMT2                   30000 non-null  int64\n",
            " 14  BILL_AMT3                   30000 non-null  int64\n",
            " 15  BILL_AMT4                   30000 non-null  int64\n",
            " 16  BILL_AMT5                   30000 non-null  int64\n",
            " 17  BILL_AMT6                   30000 non-null  int64\n",
            " 18  PAY_AMT1                    30000 non-null  int64\n",
            " 19  PAY_AMT2                    30000 non-null  int64\n",
            " 20  PAY_AMT3                    30000 non-null  int64\n",
            " 21  PAY_AMT4                    30000 non-null  int64\n",
            " 22  PAY_AMT5                    30000 non-null  int64\n",
            " 23  PAY_AMT6                    30000 non-null  int64\n",
            " 24  default payment next month  30000 non-null  int64\n",
            "dtypes: int64(25)\n",
            "memory usage: 5.7 MB\n"
          ]
        }
      ]
    },
    {
      "cell_type": "markdown",
      "source": [
        "#### Duplicate Values"
      ],
      "metadata": {
        "id": "35m5QtbWiB9F"
      }
    },
    {
      "cell_type": "code",
      "source": [
        "# Dataset Duplicate Value Counts\n",
        "\n",
        "duplicate_rows = df.duplicated().sum()\n",
        "print(f'Duplicate_rows : {duplicate_rows}')\n",
        "\n",
        "duplicate_specific = df.duplicated(subset = ['ID','LIMIT_BAL' ,'SEX','EDUCATION','MARRIAGE']).sum()\n",
        "print(f\"duplicate_over_specific_columns : {duplicate_specific}\")"
      ],
      "metadata": {
        "id": "1sLdpKYkmox0",
        "colab": {
          "base_uri": "https://localhost:8080/"
        },
        "outputId": "f9c9b214-3889-4b9e-cbbb-7db3e5337072"
      },
      "execution_count": 8,
      "outputs": [
        {
          "output_type": "stream",
          "name": "stdout",
          "text": [
            "Duplicate_rows : 0\n",
            "duplicate_over_specific_columns : 0\n"
          ]
        }
      ]
    },
    {
      "cell_type": "markdown",
      "source": [
        "Above i have tried to calculate the duplicate rows of the whole dataset and over the specific columns but from the above i can conclude that there is no duplicate rows present in this dataset."
      ],
      "metadata": {
        "id": "TtqtR6DkzK0A"
      }
    },
    {
      "cell_type": "markdown",
      "source": [
        "#### Missing Values/Null Values"
      ],
      "metadata": {
        "id": "PoPl-ycgm1ru"
      }
    },
    {
      "cell_type": "code",
      "source": [
        "# Missing Values/Null Values Count\n",
        "df.isna().sum()"
      ],
      "metadata": {
        "id": "GgHWkxvamxVg",
        "colab": {
          "base_uri": "https://localhost:8080/"
        },
        "outputId": "c30e0ee5-a3c7-4933-e9c0-af676343e0d8"
      },
      "execution_count": 9,
      "outputs": [
        {
          "output_type": "execute_result",
          "data": {
            "text/plain": [
              "ID                            0\n",
              "LIMIT_BAL                     0\n",
              "SEX                           0\n",
              "EDUCATION                     0\n",
              "MARRIAGE                      0\n",
              "AGE                           0\n",
              "PAY_0                         0\n",
              "PAY_2                         0\n",
              "PAY_3                         0\n",
              "PAY_4                         0\n",
              "PAY_5                         0\n",
              "PAY_6                         0\n",
              "BILL_AMT1                     0\n",
              "BILL_AMT2                     0\n",
              "BILL_AMT3                     0\n",
              "BILL_AMT4                     0\n",
              "BILL_AMT5                     0\n",
              "BILL_AMT6                     0\n",
              "PAY_AMT1                      0\n",
              "PAY_AMT2                      0\n",
              "PAY_AMT3                      0\n",
              "PAY_AMT4                      0\n",
              "PAY_AMT5                      0\n",
              "PAY_AMT6                      0\n",
              "default payment next month    0\n",
              "dtype: int64"
            ]
          },
          "metadata": {},
          "execution_count": 9
        }
      ]
    },
    {
      "cell_type": "code",
      "source": [
        "# Visualizing the missing values\n",
        "msno.bar(df)"
      ],
      "metadata": {
        "id": "3q5wnI3om9sJ",
        "colab": {
          "base_uri": "https://localhost:8080/",
          "height": 791
        },
        "outputId": "954c1633-3676-40f7-9fb7-8cf9da89c1ed"
      },
      "execution_count": 10,
      "outputs": [
        {
          "output_type": "execute_result",
          "data": {
            "text/plain": [
              "<Axes: >"
            ]
          },
          "metadata": {},
          "execution_count": 10
        },
        {
          "output_type": "display_data",
          "data": {
            "text/plain": [
              "<Figure size 2500x1000 with 3 Axes>"
            ],
            "image/png": "[encoded data removed]"
          },
          "metadata": {}
        }
      ]
    },
    {
      "cell_type": "markdown",
      "source": [
        "### What did you know about your dataset?"
      ],
      "metadata": {
        "id": "H0kj-8xxnORC"
      }
    },
    {
      "cell_type": "markdown",
      "source": [
        "I knew that there are 25 columns and 3000 Records are present in this dataset. and the dataset does not contain duplicate rows. and there is no any missing value in dataset. This kind of information i got to know from the above dataset."
      ],
      "metadata": {
        "id": "gfoNAAC-nUe_"
      }
    },
    {
      "cell_type": "markdown",
      "source": [
        "## ***2. Understanding Your Variables***"
      ],
      "metadata": {
        "id": "nA9Y7ga8ng1Z"
      }
    },
    {
      "cell_type": "code",
      "source": [
        "# Dataset Columns\n",
        "df.info()"
      ],
      "metadata": {
        "id": "j7xfkqrt5Ag5",
        "colab": {
          "base_uri": "https://localhost:8080/"
        },
        "outputId": "395f69ce-6ae2-4edd-9c51-bfaeac5bc74c"
      },
      "execution_count": 11,
      "outputs": [
        {
          "output_type": "stream",
          "name": "stdout",
          "text": [
            "<class 'pandas.core.frame.DataFrame'>\n",
            "RangeIndex: 30000 entries, 0 to 29999\n",
            "Data columns (total 25 columns):\n",
            " #   Column                      Non-Null Count  Dtype\n",
            "---  ------                      --------------  -----\n",
            " 0   ID                          30000 non-null  int64\n",
            " 1   LIMIT_BAL                   30000 non-null  int64\n",
            " 2   SEX                         30000 non-null  int64\n",
            " 3   EDUCATION                   30000 non-null  int64\n",
            " 4   MARRIAGE                    30000 non-null  int64\n",
            " 5   AGE                         30000 non-null  int64\n",
            " 6   PAY_0                       30000 non-null  int64\n",
            " 7   PAY_2                       30000 non-null  int64\n",
            " 8   PAY_3                       30000 non-null  int64\n",
            " 9   PAY_4                       30000 non-null  int64\n",
            " 10  PAY_5                       30000 non-null  int64\n",
            " 11  PAY_6                       30000 non-null  int64\n",
            " 12  BILL_AMT1                   30000 non-null  int64\n",
            " 13  BILL_AMT2                   30000 non-null  int64\n",
            " 14  BILL_AMT3                   30000 non-null  int64\n",
            " 15  BILL_AMT4                   30000 non-null  int64\n",
            " 16  BILL_AMT5                   30000 non-null  int64\n",
            " 17  BILL_AMT6                   30000 non-null  int64\n",
            " 18  PAY_AMT1                    30000 non-null  int64\n",
            " 19  PAY_AMT2                    30000 non-null  int64\n",
            " 20  PAY_AMT3                    30000 non-null  int64\n",
            " 21  PAY_AMT4                    30000 non-null  int64\n",
            " 22  PAY_AMT5                    30000 non-null  int64\n",
            " 23  PAY_AMT6                    30000 non-null  int64\n",
            " 24  default payment next month  30000 non-null  int64\n",
            "dtypes: int64(25)\n",
            "memory usage: 5.7 MB\n"
          ]
        }
      ]
    },
    {
      "cell_type": "code",
      "source": [
        "# Dataset Describe\n",
        "df.describe()"
      ],
      "metadata": {
        "id": "DnOaZdaE5Q5t",
        "colab": {
          "base_uri": "https://localhost:8080/",
          "height": 428
        },
        "outputId": "7b353465-0181-4a9e-ce95-72279c8647a6"
      },
      "execution_count": 12,
      "outputs": [
        {
          "output_type": "execute_result",
          "data": {
            "text/plain": [
              "                 ID       LIMIT_BAL           SEX     EDUCATION      MARRIAGE  \\\n",
              "count  30000.000000    30000.000000  30000.000000  30000.000000  30000.000000   \n",
              "mean   15000.500000   167484.322667      1.603733      1.853133      1.551867   \n",
              "std     8660.398374   129747.661567      0.489129      0.790349      0.521970   \n",
              "min        1.000000    10000.000000      1.000000      0.000000      0.000000   \n",
              "25%     7500.750000    50000.000000      1.000000      1.000000      1.000000   \n",
              "50%    15000.500000   140000.000000      2.000000      2.000000      2.000000   \n",
              "75%    22500.250000   240000.000000      2.000000      2.000000      2.000000   \n",
              "max    30000.000000  1000000.000000      2.000000      6.000000      3.000000   \n",
              "\n",
              "                AGE         PAY_0         PAY_2         PAY_3         PAY_4  \\\n",
              "count  30000.000000  30000.000000  30000.000000  30000.000000  30000.000000   \n",
              "mean      35.485500     -0.016700     -0.133767     -0.166200     -0.220667   \n",
              "std        9.217904      1.123802      1.197186      1.196868      1.169139   \n",
              "min       21.000000     -2.000000     -2.000000     -2.000000     -2.000000   \n",
              "25%       28.000000     -1.000000     -1.000000     -1.000000     -1.000000   \n",
              "50%       34.000000      0.000000      0.000000      0.000000      0.000000   \n",
              "75%       41.000000      0.000000      0.000000      0.000000      0.000000   \n",
              "max       79.000000      8.000000      8.000000      8.000000      8.000000   \n",
              "\n",
              "       ...      BILL_AMT4      BILL_AMT5      BILL_AMT6       PAY_AMT1  \\\n",
              "count  ...   30000.000000   30000.000000   30000.000000   30000.000000   \n",
              "mean   ...   43262.948967   40311.400967   38871.760400    5663.580500   \n",
              "std    ...   64332.856134   60797.155770   59554.107537   16563.280354   \n",
              "min    ... -170000.000000  -81334.000000 -339603.000000       0.000000   \n",
              "25%    ...    2326.750000    1763.000000    1256.000000    1000.000000   \n",
              "50%    ...   19052.000000   18104.500000   17071.000000    2100.000000   \n",
              "75%    ...   54506.000000   50190.500000   49198.250000    5006.000000   \n",
              "max    ...  891586.000000  927171.000000  961664.000000  873552.000000   \n",
              "\n",
              "           PAY_AMT2      PAY_AMT3       PAY_AMT4       PAY_AMT5  \\\n",
              "count  3.000000e+04   30000.00000   30000.000000   30000.000000   \n",
              "mean   5.921163e+03    5225.68150    4826.076867    4799.387633   \n",
              "std    2.304087e+04   17606.96147   15666.159744   15278.305679   \n",
              "min    0.000000e+00       0.00000       0.000000       0.000000   \n",
              "25%    8.330000e+02     390.00000     296.000000     252.500000   \n",
              "50%    2.009000e+03    1800.00000    1500.000000    1500.000000   \n",
              "75%    5.000000e+03    4505.00000    4013.250000    4031.500000   \n",
              "max    1.684259e+06  896040.00000  621000.000000  426529.000000   \n",
              "\n",
              "            PAY_AMT6  default payment next month  \n",
              "count   30000.000000                30000.000000  \n",
              "mean     5215.502567                    0.221200  \n",
              "std     17777.465775                    0.415062  \n",
              "min         0.000000                    0.000000  \n",
              "25%       117.750000                    0.000000  \n",
              "50%      1500.000000                    0.000000  \n",
              "75%      4000.000000                    0.000000  \n",
              "max    528666.000000                    1.000000  \n",
              "\n",
              "[8 rows x 25 columns]"
            ],
            "text/html": [
              "\n",
              "\n",
              "  <div id=\"df-2590d9e8-7637-4524-8766-dcdb0a273623\">\n",
              "    <div class=\"colab-df-container\">\n",
              "      <div>\n",
              "<style scoped>\n",
              "    .dataframe tbody tr th:only-of-type {\n",
              "        vertical-align: middle;\n",
              "    }\n",
              "\n",
              "    .dataframe tbody tr th {\n",
              "        vertical-align: top;\n",
              "    }\n",
              "\n",
              "    .dataframe thead th {\n",
              "        text-align: right;\n",
              "    }\n",
              "</style>\n",
              "<table border=\"1\" class=\"dataframe\">\n",
              "  <thead>\n",
              "    <tr style=\"text-align: right;\">\n",
              "      <th></th>\n",
              "      <th>ID</th>\n",
              "      <th>LIMIT_BAL</th>\n",
              "      <th>SEX</th>\n",
              "      <th>EDUCATION</th>\n",
              "      <th>MARRIAGE</th>\n",
              "      <th>AGE</th>\n",
              "      <th>PAY_0</th>\n",
              "      <th>PAY_2</th>\n",
              "      <th>PAY_3</th>\n",
              "      <th>PAY_4</th>\n",
              "      <th>...</th>\n",
              "      <th>BILL_AMT4</th>\n",
              "      <th>BILL_AMT5</th>\n",
              "      <th>BILL_AMT6</th>\n",
              "      <th>PAY_AMT1</th>\n",
              "      <th>PAY_AMT2</th>\n",
              "      <th>PAY_AMT3</th>\n",
              "      <th>PAY_AMT4</th>\n",
              "      <th>PAY_AMT5</th>\n",
              "      <th>PAY_AMT6</th>\n",
              "      <th>default payment next month</th>\n",
              "    </tr>\n",
              "  </thead>\n",
              "  <tbody>\n",
              "    <tr>\n",
              "      <th>count</th>\n",
              "      <td>30000.000000</td>\n",
              "      <td>30000.000000</td>\n",
              "      <td>30000.000000</td>\n",
              "      <td>30000.000000</td>\n",
              "      <td>30000.000000</td>\n",
              "      <td>30000.000000</td>\n",
              "      <td>30000.000000</td>\n",
              "      <td>30000.000000</td>\n",
              "      <td>30000.000000</td>\n",
              "      <td>30000.000000</td>\n",
              "      <td>...</td>\n",
              "      <td>30000.000000</td>\n",
              "      <td>30000.000000</td>\n",
              "      <td>30000.000000</td>\n",
              "      <td>30000.000000</td>\n",
              "      <td>3.000000e+04</td>\n",
              "      <td>30000.00000</td>\n",
              "      <td>30000.000000</td>\n",
              "      <td>30000.000000</td>\n",
              "      <td>30000.000000</td>\n",
              "      <td>30000.000000</td>\n",
              "    </tr>\n",
              "    <tr>\n",
              "      <th>mean</th>\n",
              "      <td>15000.500000</td>\n",
              "      <td>167484.322667</td>\n",
              "      <td>1.603733</td>\n",
              "      <td>1.853133</td>\n",
              "      <td>1.551867</td>\n",
              "      <td>35.485500</td>\n",
              "      <td>-0.016700</td>\n",
              "      <td>-0.133767</td>\n",
              "      <td>-0.166200</td>\n",
              "      <td>-0.220667</td>\n",
              "      <td>...</td>\n",
              "      <td>43262.948967</td>\n",
              "      <td>40311.400967</td>\n",
              "      <td>38871.760400</td>\n",
              "      <td>5663.580500</td>\n",
              "      <td>5.921163e+03</td>\n",
              "      <td>5225.68150</td>\n",
              "      <td>4826.076867</td>\n",
              "      <td>4799.387633</td>\n",
              "      <td>5215.502567</td>\n",
              "      <td>0.221200</td>\n",
              "    </tr>\n",
              "    <tr>\n",
              "      <th>std</th>\n",
              "      <td>8660.398374</td>\n",
              "      <td>129747.661567</td>\n",
              "      <td>0.489129</td>\n",
              "      <td>0.790349</td>\n",
              "      <td>0.521970</td>\n",
              "      <td>9.217904</td>\n",
              "      <td>1.123802</td>\n",
              "      <td>1.197186</td>\n",
              "      <td>1.196868</td>\n",
              "      <td>1.169139</td>\n",
              "      <td>...</td>\n",
              "      <td>64332.856134</td>\n",
              "      <td>60797.155770</td>\n",
              "      <td>59554.107537</td>\n",
              "      <td>16563.280354</td>\n",
              "      <td>2.304087e+04</td>\n",
              "      <td>17606.96147</td>\n",
              "      <td>15666.159744</td>\n",
              "      <td>15278.305679</td>\n",
              "      <td>17777.465775</td>\n",
              "      <td>0.415062</td>\n",
              "    </tr>\n",
              "    <tr>\n",
              "      <th>min</th>\n",
              "      <td>1.000000</td>\n",
              "      <td>10000.000000</td>\n",
              "      <td>1.000000</td>\n",
              "      <td>0.000000</td>\n",
              "      <td>0.000000</td>\n",
              "      <td>21.000000</td>\n",
              "      <td>-2.000000</td>\n",
              "      <td>-2.000000</td>\n",
              "      <td>-2.000000</td>\n",
              "      <td>-2.000000</td>\n",
              "      <td>...</td>\n",
              "      <td>-170000.000000</td>\n",
              "      <td>-81334.000000</td>\n",
              "      <td>-339603.000000</td>\n",
              "      <td>0.000000</td>\n",
              "      <td>0.000000e+00</td>\n",
              "      <td>0.00000</td>\n",
              "      <td>0.000000</td>\n",
              "      <td>0.000000</td>\n",
              "      <td>0.000000</td>\n",
              "      <td>0.000000</td>\n",
              "    </tr>\n",
              "    <tr>\n",
              "      <th>25%</th>\n",
              "      <td>7500.750000</td>\n",
              "      <td>50000.000000</td>\n",
              "      <td>1.000000</td>\n",
              "      <td>1.000000</td>\n",
              "      <td>1.000000</td>\n",
              "      <td>28.000000</td>\n",
              "      <td>-1.000000</td>\n",
              "      <td>-1.000000</td>\n",
              "      <td>-1.000000</td>\n",
              "      <td>-1.000000</td>\n",
              "      <td>...</td>\n",
              "      <td>2326.750000</td>\n",
              "      <td>1763.000000</td>\n",
              "      <td>1256.000000</td>\n",
              "      <td>1000.000000</td>\n",
              "      <td>8.330000e+02</td>\n",
              "      <td>390.00000</td>\n",
              "      <td>296.000000</td>\n",
              "      <td>252.500000</td>\n",
              "      <td>117.750000</td>\n",
              "      <td>0.000000</td>\n",
              "    </tr>\n",
              "    <tr>\n",
              "      <th>50%</th>\n",
              "      <td>15000.500000</td>\n",
              "      <td>140000.000000</td>\n",
              "      <td>2.000000</td>\n",
              "      <td>2.000000</td>\n",
              "      <td>2.000000</td>\n",
              "      <td>34.000000</td>\n",
              "      <td>0.000000</td>\n",
              "      <td>0.000000</td>\n",
              "      <td>0.000000</td>\n",
              "      <td>0.000000</td>\n",
              "      <td>...</td>\n",
              "      <td>19052.000000</td>\n",
              "      <td>18104.500000</td>\n",
              "      <td>17071.000000</td>\n",
              "      <td>2100.000000</td>\n",
              "      <td>2.009000e+03</td>\n",
              "      <td>1800.00000</td>\n",
              "      <td>1500.000000</td>\n",
              "      <td>1500.000000</td>\n",
              "      <td>1500.000000</td>\n",
              "      <td>0.000000</td>\n",
              "    </tr>\n",
              "    <tr>\n",
              "      <th>75%</th>\n",
              "      <td>22500.250000</td>\n",
              "      <td>240000.000000</td>\n",
              "      <td>2.000000</td>\n",
              "      <td>2.000000</td>\n",
              "      <td>2.000000</td>\n",
              "      <td>41.000000</td>\n",
              "      <td>0.000000</td>\n",
              "      <td>0.000000</td>\n",
              "      <td>0.000000</td>\n",
              "      <td>0.000000</td>\n",
              "      <td>...</td>\n",
              "      <td>54506.000000</td>\n",
              "      <td>50190.500000</td>\n",
              "      <td>49198.250000</td>\n",
              "      <td>5006.000000</td>\n",
              "      <td>5.000000e+03</td>\n",
              "      <td>4505.00000</td>\n",
              "      <td>4013.250000</td>\n",
              "      <td>4031.500000</td>\n",
              "      <td>4000.000000</td>\n",
              "      <td>0.000000</td>\n",
              "    </tr>\n",
              "    <tr>\n",
              "      <th>max</th>\n",
              "      <td>30000.000000</td>\n",
              "      <td>1000000.000000</td>\n",
              "      <td>2.000000</td>\n",
              "      <td>6.000000</td>\n",
              "      <td>3.000000</td>\n",
              "      <td>79.000000</td>\n",
              "      <td>8.000000</td>\n",
              "      <td>8.000000</td>\n",
              "      <td>8.000000</td>\n",
              "      <td>8.000000</td>\n",
              "      <td>...</td>\n",
              "      <td>891586.000000</td>\n",
              "      <td>927171.000000</td>\n",
              "      <td>961664.000000</td>\n",
              "      <td>873552.000000</td>\n",
              "      <td>1.684259e+06</td>\n",
              "      <td>896040.00000</td>\n",
              "      <td>621000.000000</td>\n",
              "      <td>426529.000000</td>\n",
              "      <td>528666.000000</td>\n",
              "      <td>1.000000</td>\n",
              "    </tr>\n",
              "  </tbody>\n",
              "</table>\n",
              "<p>8 rows × 25 columns</p>\n",
              "</div>\n",
              "      <button class=\"colab-df-convert\" onclick=\"convertToInteractive('df-2590d9e8-7637-4524-8766-dcdb0a273623')\"\n",
              "              title=\"Convert this dataframe to an interactive table.\"\n",
              "              style=\"display:none;\">\n",
              "\n",
              "  <svg xmlns=\"http://www.w3.org/2000/svg\" height=\"24px\"viewBox=\"0 0 24 24\"\n",
              "       width=\"24px\">\n",
              "    <path d=\"M0 0h24v24H0V0z\" fill=\"none\"/>\n",
              "    <path d=\"M18.56 5.44l.94 2.06.94-2.06 2.06-.94-2.06-.94-.94-2.06-.94 2.06-2.06.94zm-11 1L8.5 8.5l.94-2.06 2.06-.94-2.06-.94L8.5 2.5l-.94 2.06-2.06.94zm10 10l.94 2.06.94-2.06 2.06-.94-2.06-.94-.94-2.06-.94 2.06-2.06.94z\"/><path d=\"M17.41 7.96l-1.37-1.37c-.4-.4-.92-.59-1.43-.59-.52 0-1.04.2-1.43.59L10.3 9.45l-7.72 7.72c-.78.78-.78 2.05 0 2.83L4 21.41c.39.39.9.59 1.41.59.51 0 1.02-.2 1.41-.59l7.78-7.78 2.81-2.81c.8-.78.8-2.07 0-2.86zM5.41 20L4 18.59l7.72-7.72 1.47 1.35L5.41 20z\"/>\n",
              "  </svg>\n",
              "      </button>\n",
              "\n",
              "\n",
              "\n",
              "    <div id=\"df-e87d7253-3df0-4b10-9d01-806496bdea4b\">\n",
              "      <button class=\"colab-df-quickchart\" onclick=\"quickchart('df-e87d7253-3df0-4b10-9d01-806496bdea4b')\"\n",
              "              title=\"Suggest charts.\"\n",
              "              style=\"display:none;\">\n",
              "\n",
              "<svg xmlns=\"http://www.w3.org/2000/svg\" height=\"24px\"viewBox=\"0 0 24 24\"\n",
              "     width=\"24px\">\n",
              "    <g>\n",
              "        <path d=\"M19 3H5c-1.1 0-2 .9-2 2v14c0 1.1.9 2 2 2h14c1.1 0 2-.9 2-2V5c0-1.1-.9-2-2-2zM9 17H7v-7h2v7zm4 0h-2V7h2v10zm4 0h-2v-4h2v4z\"/>\n",
              "    </g>\n",
              "</svg>\n",
              "      </button>\n",
              "    </div>\n",
              "\n",
              "<style>\n",
              "  .colab-df-quickchart {\n",
              "    background-color: #E8F0FE;\n",
              "    border: none;\n",
              "    border-radius: 50%;\n",
              "    cursor: pointer;\n",
              "    display: none;\n",
              "    fill: #1967D2;\n",
              "    height: 32px;\n",
              "    padding: 0 0 0 0;\n",
              "    width: 32px;\n",
              "  }\n",
              "\n",
              "  .colab-df-quickchart:hover {\n",
              "    background-color: #E2EBFA;\n",
              "    box-shadow: 0px 1px 2px rgba(60, 64, 67, 0.3), 0px 1px 3px 1px rgba(60, 64, 67, 0.15);\n",
              "    fill: #174EA6;\n",
              "  }\n",
              "\n",
              "  [theme=dark] .colab-df-quickchart {\n",
              "    background-color: #3B4455;\n",
              "    fill: #D2E3FC;\n",
              "  }\n",
              "\n",
              "  [theme=dark] .colab-df-quickchart:hover {\n",
              "    background-color: #434B5C;\n",
              "    box-shadow: 0px 1px 3px 1px rgba(0, 0, 0, 0.15);\n",
              "    filter: drop-shadow(0px 1px 2px rgba(0, 0, 0, 0.3));\n",
              "    fill: #FFFFFF;\n",
              "  }\n",
              "</style>\n",
              "\n",
              "    <script>\n",
              "      async function quickchart(key) {\n",
              "        const containerElement = document.querySelector('#' + key);\n",
              "        const charts = await google.colab.kernel.invokeFunction(\n",
              "            'suggestCharts', [key], {});\n",
              "      }\n",
              "    </script>\n",
              "\n",
              "      <script>\n",
              "\n",
              "function displayQuickchartButton(domScope) {\n",
              "  let quickchartButtonEl =\n",
              "    domScope.querySelector('#df-e87d7253-3df0-4b10-9d01-806496bdea4b button.colab-df-quickchart');\n",
              "  quickchartButtonEl.style.display =\n",
              "    google.colab.kernel.accessAllowed ? 'block' : 'none';\n",
              "}\n",
              "\n",
              "        displayQuickchartButton(document);\n",
              "      </script>\n",
              "      <style>\n",
              "    .colab-df-container {\n",
              "      display:flex;\n",
              "      flex-wrap:wrap;\n",
              "      gap: 12px;\n",
              "    }\n",
              "\n",
              "    .colab-df-convert {\n",
              "      background-color: #E8F0FE;\n",
              "      border: none;\n",
              "      border-radius: 50%;\n",
              "      cursor: pointer;\n",
              "      display: none;\n",
              "      fill: #1967D2;\n",
              "      height: 32px;\n",
              "      padding: 0 0 0 0;\n",
              "      width: 32px;\n",
              "    }\n",
              "\n",
              "    .colab-df-convert:hover {\n",
              "      background-color: #E2EBFA;\n",
              "      box-shadow: 0px 1px 2px rgba(60, 64, 67, 0.3), 0px 1px 3px 1px rgba(60, 64, 67, 0.15);\n",
              "      fill: #174EA6;\n",
              "    }\n",
              "\n",
              "    [theme=dark] .colab-df-convert {\n",
              "      background-color: #3B4455;\n",
              "      fill: #D2E3FC;\n",
              "    }\n",
              "\n",
              "    [theme=dark] .colab-df-convert:hover {\n",
              "      background-color: #434B5C;\n",
              "      box-shadow: 0px 1px 3px 1px rgba(0, 0, 0, 0.15);\n",
              "      filter: drop-shadow(0px 1px 2px rgba(0, 0, 0, 0.3));\n",
              "      fill: #FFFFFF;\n",
              "    }\n",
              "  </style>\n",
              "\n",
              "      <script>\n",
              "        const buttonEl =\n",
              "          document.querySelector('#df-2590d9e8-7637-4524-8766-dcdb0a273623 button.colab-df-convert');\n",
              "        buttonEl.style.display =\n",
              "          google.colab.kernel.accessAllowed ? 'block' : 'none';\n",
              "\n",
              "        async function convertToInteractive(key) {\n",
              "          const element = document.querySelector('#df-2590d9e8-7637-4524-8766-dcdb0a273623');\n",
              "          const dataTable =\n",
              "            await google.colab.kernel.invokeFunction('convertToInteractive',\n",
              "                                                     [key], {});\n",
              "          if (!dataTable) return;\n",
              "\n",
              "          const docLinkHtml = 'Like what you see? Visit the ' +\n",
              "            '<a target=\"_blank\" href=https://colab.research.google.com/notebooks/data_table.ipynb>data table notebook</a>'\n",
              "            + ' to learn more about interactive tables.';\n",
              "          element.innerHTML = '';\n",
              "          dataTable['output_type'] = 'display_data';\n",
              "          await google.colab.output.renderOutput(dataTable, element);\n",
              "          const docLink = document.createElement('div');\n",
              "          docLink.innerHTML = docLinkHtml;\n",
              "          element.appendChild(docLink);\n",
              "        }\n",
              "      </script>\n",
              "    </div>\n",
              "  </div>\n"
            ]
          },
          "metadata": {},
          "execution_count": 12
        }
      ]
    },
    {
      "cell_type": "markdown",
      "source": [
        "### Variables Description"
      ],
      "metadata": {
        "id": "PBTbrJXOngz2"
      }
    },
    {
      "cell_type": "markdown",
      "source": [
        "![Classification_Credit_Card_Default_Prediction_b917452a27.png](data:image/png;base64,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)\n",
        "\n",
        "\n"
      ],
      "metadata": {
        "id": "aJV4KIxSnxay"
      }
    },
    {
      "cell_type": "markdown",
      "source": [
        "ID: ID of each client\n",
        "\n",
        "LIMIT_BAL: Amount of given credit in NT dollars (includes individual and family/supplementary credit\n",
        "\n",
        "SEX: Gender (1=male, 2=female)\n",
        "\n",
        "EDUCATION: (1=graduate school, 2=university, 3=high school, 4=others, 5=unknown, 6=unknown)\n",
        "\n",
        "MARRIAGE: Marital status (1=married, 2=single, 3=others)\n",
        "AGE: Age in years\n",
        "\n",
        "\n",
        "\n",
        "PAY_0: Repayment status in September, 2005 (-1=pay duly, 1=payment delay for one month, 2=payment delay for two months,8=payment delay for eight - months, 9=payment delay for nine months and above)\n",
        "\n",
        "PAY_2: Repayment status in August, 2005 (scale same as above)\n",
        "\n",
        "PAY_3: Repayment status in July, 2005 (scale same as above)\n",
        "\n",
        "PAY_4: Repayment status in June, 2005 (scale same as above)\n",
        "\n",
        "PAY_5: Repayment status in May, 2005 (scale same as above)\n",
        "\n",
        "PAY_6: Repayment status in April, 2005 (scale same as above)\n",
        "\n",
        "BILL_AMT1: Amount of bill statement in September, 2005 (NT dollar)\n",
        "\n",
        "BILL_AMT2: Amount of bill statement in August, 2005 (NT dollar)\n",
        "\n",
        "BILL_AMT3: Amount of bill statement in July, 2005 (NT dollar)\n",
        "\n",
        "BILL_AMT4: Amount of bill statement in June, 2005 (NT dollar)\n",
        "\n",
        "BILL_AMT5: Amount of bill statement in May, 2005 (NT dollar)\n",
        "\n",
        "BILL_AMT6: Amount of bill statement in April, 2005 (NT dollar)\n",
        "\n",
        "PAY_AMT1: Amount of previous payment in September, 2005 (NT dollar)\n",
        "\n",
        "PAY_AMT2: Amount of previous payment in August, 2005 (NT dollar)\n",
        "\n",
        "PAY_AMT3: Amount of previous payment in July, 2005 (NT dollar)\n",
        "\n",
        "PAY_AMT4: Amount of previous payment in June, 2005 (NT dollar)\n",
        "\n",
        "PAY_AMT5: Amount of previous payment in May, 2005 (NT dollar)\n",
        "\n",
        "PAY_AMT6: Amount of previous payment in April, 2005 (NT dollar)"
      ],
      "metadata": {
        "id": "Ostj7mFLKyYt"
      }
    },
    {
      "cell_type": "markdown",
      "source": [
        "### Check Unique Values for each variable."
      ],
      "metadata": {
        "id": "u3PMJOP6ngxN"
      }
    },
    {
      "cell_type": "code",
      "source": [
        "# Check Unique Values for each variable.\n",
        "df.nunique()"
      ],
      "metadata": {
        "id": "zms12Yq5n-jE",
        "colab": {
          "base_uri": "https://localhost:8080/"
        },
        "outputId": "a17e04f8-a0e3-4b92-93c4-d260190cefac"
      },
      "execution_count": 13,
      "outputs": [
        {
          "output_type": "execute_result",
          "data": {
            "text/plain": [
              "ID                            30000\n",
              "LIMIT_BAL                        81\n",
              "SEX                               2\n",
              "EDUCATION                         7\n",
              "MARRIAGE                          4\n",
              "AGE                              56\n",
              "PAY_0                            11\n",
              "PAY_2                            11\n",
              "PAY_3                            11\n",
              "PAY_4                            11\n",
              "PAY_5                            10\n",
              "PAY_6                            10\n",
              "BILL_AMT1                     22723\n",
              "BILL_AMT2                     22346\n",
              "BILL_AMT3                     22026\n",
              "BILL_AMT4                     21548\n",
              "BILL_AMT5                     21010\n",
              "BILL_AMT6                     20604\n",
              "PAY_AMT1                       7943\n",
              "PAY_AMT2                       7899\n",
              "PAY_AMT3                       7518\n",
              "PAY_AMT4                       6937\n",
              "PAY_AMT5                       6897\n",
              "PAY_AMT6                       6939\n",
              "default payment next month        2\n",
              "dtype: int64"
            ]
          },
          "metadata": {},
          "execution_count": 13
        }
      ]
    },
    {
      "cell_type": "markdown",
      "source": [
        "## 3. ***Data Wrangling***"
      ],
      "metadata": {
        "id": "dauF4eBmngu3"
      }
    },
    {
      "cell_type": "markdown",
      "source": [
        "### Data Wrangling Code"
      ],
      "metadata": {
        "id": "bKJF3rekwFvQ"
      }
    },
    {
      "cell_type": "code",
      "source": [
        "# Deleting the ID column from the dataset\n",
        "del df['ID']"
      ],
      "metadata": {
        "id": "wk-9a2fpoLcV"
      },
      "execution_count": 14,
      "outputs": []
    },
    {
      "cell_type": "code",
      "source": [
        "# Renaming payment column with month tag\n",
        "df.rename(columns = {'PAY_0':'pay_sept','PAY_2':'pay_agu','PAY_3':'pay_july','PAY_4':'pay_jun','PAY_5':'pay_may','PAY_6': 'pay_apr'}, inplace =True)"
      ],
      "metadata": {
        "id": "LuHiSruWMKVO"
      },
      "execution_count": 15,
      "outputs": []
    },
    {
      "cell_type": "code",
      "source": [
        "# Renaming Bill amount column with month tag\n",
        "df.rename(columns={'BILL_AMT1':'SEPT_BILL_AMT','BILL_AMT2':'AUG_BILL_AMT','BILL_AMT3':'JULY_BILL_AMT','BILL_AMT4':'JUN_BILL_AMT','BILL_AMT5':'MAY_BILL_AMT','BILL_AMT6':'APR_BILL_AMT'} , inplace = True)"
      ],
      "metadata": {
        "id": "RkklX29AMKLW"
      },
      "execution_count": 16,
      "outputs": []
    },
    {
      "cell_type": "code",
      "source": [
        "# Renaming previous payment column with month tag\n",
        "df.rename(columns = {'PAY_AMT1':'SEPT_PAY_AMT','PAY_AMT2':'AGU_PAY_AMT','PAY_AMT3':'JUL_PAY_AMT','PAY_AMT4':'JUN_PAY_AMT','PAY_AMT5':'APR_PAY_AMT','PAY_AMT6':'MAY_PAY_AMT'}, inplace = True)"
      ],
      "metadata": {
        "id": "1P6yuIt2OtyW"
      },
      "execution_count": 17,
      "outputs": []
    },
    {
      "cell_type": "code",
      "source": [
        "# renaming the default payment column with _\n",
        "df.rename(columns ={'default payment next month':'default_payment_next_month'}, inplace = True)"
      ],
      "metadata": {
        "id": "8MZqX3noT9-_"
      },
      "execution_count": 18,
      "outputs": []
    },
    {
      "cell_type": "code",
      "source": [
        "# checking whether the column name has been changed or not\n",
        "df.info()"
      ],
      "metadata": {
        "colab": {
          "base_uri": "https://localhost:8080/"
        },
        "id": "IDsxBhsxUWjO",
        "outputId": "7fcfd681-0641-4192-d784-6b02a9f4e860"
      },
      "execution_count": 19,
      "outputs": [
        {
          "output_type": "stream",
          "name": "stdout",
          "text": [
            "<class 'pandas.core.frame.DataFrame'>\n",
            "RangeIndex: 30000 entries, 0 to 29999\n",
            "Data columns (total 24 columns):\n",
            " #   Column                      Non-Null Count  Dtype\n",
            "---  ------                      --------------  -----\n",
            " 0   LIMIT_BAL                   30000 non-null  int64\n",
            " 1   SEX                         30000 non-null  int64\n",
            " 2   EDUCATION                   30000 non-null  int64\n",
            " 3   MARRIAGE                    30000 non-null  int64\n",
            " 4   AGE                         30000 non-null  int64\n",
            " 5   pay_sept                    30000 non-null  int64\n",
            " 6   pay_agu                     30000 non-null  int64\n",
            " 7   pay_july                    30000 non-null  int64\n",
            " 8   pay_jun                     30000 non-null  int64\n",
            " 9   pay_may                     30000 non-null  int64\n",
            " 10  pay_apr                     30000 non-null  int64\n",
            " 11  SEPT_BILL_AMT               30000 non-null  int64\n",
            " 12  AUG_BILL_AMT                30000 non-null  int64\n",
            " 13  JULY_BILL_AMT               30000 non-null  int64\n",
            " 14  JUN_BILL_AMT                30000 non-null  int64\n",
            " 15  MAY_BILL_AMT                30000 non-null  int64\n",
            " 16  APR_BILL_AMT                30000 non-null  int64\n",
            " 17  SEPT_PAY_AMT                30000 non-null  int64\n",
            " 18  AGU_PAY_AMT                 30000 non-null  int64\n",
            " 19  JUL_PAY_AMT                 30000 non-null  int64\n",
            " 20  JUN_PAY_AMT                 30000 non-null  int64\n",
            " 21  APR_PAY_AMT                 30000 non-null  int64\n",
            " 22  MAY_PAY_AMT                 30000 non-null  int64\n",
            " 23  default_payment_next_month  30000 non-null  int64\n",
            "dtypes: int64(24)\n",
            "memory usage: 5.5 MB\n"
          ]
        }
      ]
    },
    {
      "cell_type": "markdown",
      "source": [
        "### What all manipulations have you done and insights you found?"
      ],
      "metadata": {
        "id": "MSa1f5Uengrz"
      }
    },
    {
      "cell_type": "markdown",
      "source": [
        "Above i have deleted the index column. and rename the repayment_status column, bill amount column, previous month bill amount column and default payment column."
      ],
      "metadata": {
        "id": "LbyXE7I1olp8"
      }
    },
    {
      "cell_type": "markdown",
      "source": [
        "## ***4. Data Vizualization, Storytelling & Experimenting with charts : Understand the relationships between variables***"
      ],
      "metadata": {
        "id": "GF8Ens_Soomf"
      }
    },
    {
      "cell_type": "markdown",
      "source": [
        "### Exploratory Data Analysis"
      ],
      "metadata": {
        "id": "CXSI4Ny7Vf3N"
      }
    },
    {
      "cell_type": "markdown",
      "source": [
        "#### Chart - 1"
      ],
      "metadata": {
        "id": "0wOQAZs5pc--"
      }
    },
    {
      "cell_type": "code",
      "source": [
        "# Age Distribution\n",
        "plt.figure(figsize= (8,4), facecolor = 'wheat')\n",
        "sns.histplot(df['AGE'],bins = 20, kde = True)\n",
        "plt.title('AGE DISTRIBUTION')\n",
        "plt.show()"
      ],
      "metadata": {
        "id": "7v_ESjsspbW7",
        "colab": {
          "base_uri": "https://localhost:8080/",
          "height": 401
        },
        "outputId": "4dd1bc2d-f48f-4cda-d13f-e13d6cdd2be8"
      },
      "execution_count": 67,
      "outputs": [
        {
          "output_type": "display_data",
          "data": {
            "text/plain": [
              "<Figure size 800x400 with 1 Axes>"
            ],
            "image/png": "[encoded data removed]"
          },
          "metadata": {}
        }
      ]
    },
    {
      "cell_type": "markdown",
      "source": [
        "##### 1. Why did you pick the specific chart?"
      ],
      "metadata": {
        "id": "K5QZ13OEpz2H"
      }
    },
    {
      "cell_type": "markdown",
      "source": [
        "I wanted to see whether the data is normalize or not and also wanted to see the age distribution. That's why i pick the above histplot."
      ],
      "metadata": {
        "id": "XESiWehPqBRc"
      }
    },
    {
      "cell_type": "markdown",
      "source": [
        "##### 2. What is/are the insight(s) found from the chart?"
      ],
      "metadata": {
        "id": "lQ7QKXXCp7Bj"
      }
    },
    {
      "cell_type": "markdown",
      "source": [
        "From the above histplot i found that the data is not normalize. and the people having 30 age has high count in dataset."
      ],
      "metadata": {
        "id": "C_j1G7yiqdRP"
      }
    },
    {
      "cell_type": "markdown",
      "source": [
        "#### Chart - 2"
      ],
      "metadata": {
        "id": "KSlN3yHqYklG"
      }
    },
    {
      "cell_type": "code",
      "source": [
        "# LIMIT BAL DISTRIBUTION WITH SEX COLUMN\n",
        "plt.figure(figsize = (8,4), facecolor = 'wheat')\n",
        "plt.title('LIMIT BAL DISTRIBUTION WITH SEX COLUMN')\n",
        "sns.histplot(data = df, x= 'LIMIT_BAL',bins = 20, hue = 'SEX', kde = True)\n",
        "plt.plot()\n",
        "plt.show()"
      ],
      "metadata": {
        "id": "R4YgtaqtYklH",
        "colab": {
          "base_uri": "https://localhost:8080/",
          "height": 401
        },
        "outputId": "49938ee8-438d-4c5b-fd14-5607962cf3f5"
      },
      "execution_count": 80,
      "outputs": [
        {
          "output_type": "display_data",
          "data": {
            "text/plain": [
              "<Figure size 800x400 with 1 Axes>"
            ],
            "image/png": "[encoded data removed]"
          },
          "metadata": {}
        }
      ]
    },
    {
      "cell_type": "markdown",
      "source": [
        "##### 1. Why did you pick the specific chart?"
      ],
      "metadata": {
        "id": "t6dVpIINYklI"
      }
    },
    {
      "cell_type": "markdown",
      "source": [
        "I wanted to see the LIMIT BAL with sex column thats why i use the above chart with kde."
      ],
      "metadata": {
        "id": "5aaW0BYyYklI"
      }
    },
    {
      "cell_type": "markdown",
      "source": [
        "##### 2. What is/are the insight(s) found from the chart?"
      ],
      "metadata": {
        "id": "ijmpgYnKYklI"
      }
    },
    {
      "cell_type": "markdown",
      "source": [
        "From the above graph i found that the female has high count as compare to male.\n",
        "and the female has high LIMIT BAL as compare to male.\n",
        "and from the above graph i can conclude that as LIMIT BALANCE increase the count of peoples are decreasing it means the less peoples get High LIMIT BALANCE."
      ],
      "metadata": {
        "id": "PSx9atu2YklI"
      }
    },
    {
      "cell_type": "markdown",
      "source": [
        "#### Chart - 3"
      ],
      "metadata": {
        "id": "EM7whBJCYoAo"
      }
    },
    {
      "cell_type": "code",
      "source": [
        "# SEX COLUMN distribution\n",
        "plt.figure(figsize = (8,4), facecolor = 'wheat')\n",
        "plt.title('SEX Distribution')\n",
        "sns.countplot(data = df, x = 'SEX', palette='Accent',label = ['Male','Female'])\n",
        "plt.legend()\n",
        "plt.plot()\n",
        "plt.show()"
      ],
      "metadata": {
        "id": "t6GMdE67YoAp",
        "colab": {
          "base_uri": "https://localhost:8080/",
          "height": 401
        },
        "outputId": "112323a2-8ee7-40fc-8751-0462056f0f8a"
      },
      "execution_count": 111,
      "outputs": [
        {
          "output_type": "display_data",
          "data": {
            "text/plain": [
              "<Figure size 800x400 with 1 Axes>"
            ],
            "image/png": "[encoded data removed]"
          },
          "metadata": {}
        }
      ]
    },
    {
      "cell_type": "markdown",
      "source": [
        "##### 1. Why did you pick the specific chart?"
      ],
      "metadata": {
        "id": "fge-S5ZAYoAp"
      }
    },
    {
      "cell_type": "markdown",
      "source": [
        "I wanted to check how many males and females present in the dataset that's why i pick the countplot for visualizing the sex column."
      ],
      "metadata": {
        "id": "5dBItgRVYoAp"
      }
    },
    {
      "cell_type": "markdown",
      "source": [
        "##### 2. What is/are the insight(s) found from the chart?"
      ],
      "metadata": {
        "id": "85gYPyotYoAp"
      }
    },
    {
      "cell_type": "markdown",
      "source": [
        "From the count plot i found the insights. The insights are the male count is less than females and female count is higher than males."
      ],
      "metadata": {
        "id": "4jstXR6OYoAp"
      }
    },
    {
      "cell_type": "markdown",
      "source": [
        "#### Chart - 4"
      ],
      "metadata": {
        "id": "4Of9eVA-YrdM"
      }
    },
    {
      "cell_type": "code",
      "source": [
        "# Education Distribution\n",
        "plt.figure(figsize =(8,4), facecolor = 'wheat')\n",
        "plt.title('EDUCATION DISTRIBUTION')\n",
        "sns.countplot(data = df, x = 'EDUCATION', palette='Dark2', label =['None','graduate_school','university','high school','others','unknown','unknown'])\n",
        "plt.legend()\n",
        "plt.plot()\n",
        "plt.show()"
      ],
      "metadata": {
        "id": "irlUoxc8YrdO",
        "colab": {
          "base_uri": "https://localhost:8080/",
          "height": 401
        },
        "outputId": "ddf5aa62-b529-4d37-87a7-bff6ae01bf21"
      },
      "execution_count": 116,
      "outputs": [
        {
          "output_type": "display_data",
          "data": {
            "text/plain": [
              "<Figure size 800x400 with 1 Axes>"
            ],
            "image/png": "[encoded data removed]"
          },
          "metadata": {}
        }
      ]
    },
    {
      "cell_type": "markdown",
      "source": [
        "##### 1. Why did you pick the specific chart?"
      ],
      "metadata": {
        "id": "iky9q4vBYrdO"
      }
    },
    {
      "cell_type": "markdown",
      "source": [
        "I wanted to distribute the education column that's why i pick above chart."
      ],
      "metadata": {
        "id": "aJRCwT6DYrdO"
      }
    },
    {
      "cell_type": "markdown",
      "source": [
        "##### 2. What is/are the insight(s) found from the chart?"
      ],
      "metadata": {
        "id": "F6T5p64dYrdO"
      }
    },
    {
      "cell_type": "markdown",
      "source": [
        "From the above count plot i got the folowing insights.\n",
        "\n",
        "\n",
        "\n",
        "*   The Education 'University' has high count as compare to other education type.\n",
        "*   graduate school has count higher than the high school\n",
        "\n",
        "\n",
        "*   The high school has high count than other and none education except graduate and university.\n",
        "*   The none, other and unknown has very low count.\n",
        "\n",
        "\n",
        "\n",
        "\n"
      ],
      "metadata": {
        "id": "Xx8WAJvtYrdO"
      }
    },
    {
      "cell_type": "markdown",
      "source": [
        "#### Chart - 5"
      ],
      "metadata": {
        "id": "bamQiAODYuh1"
      }
    },
    {
      "cell_type": "code",
      "source": [
        "# Chart - 5 visualization code"
      ],
      "metadata": {
        "id": "TIJwrbroYuh3"
      },
      "execution_count": null,
      "outputs": []
    },
    {
      "cell_type": "markdown",
      "source": [
        "##### 1. Why did you pick the specific chart?"
      ],
      "metadata": {
        "id": "QHF8YVU7Yuh3"
      }
    },
    {
      "cell_type": "markdown",
      "source": [
        "Answer Here."
      ],
      "metadata": {
        "id": "dcxuIMRPYuh3"
      }
    },
    {
      "cell_type": "markdown",
      "source": [
        "##### 2. What is/are the insight(s) found from the chart?"
      ],
      "metadata": {
        "id": "GwzvFGzlYuh3"
      }
    },
    {
      "cell_type": "markdown",
      "source": [
        "Answer Here"
      ],
      "metadata": {
        "id": "uyqkiB8YYuh3"
      }
    },
    {
      "cell_type": "markdown",
      "source": [
        "##### 3. Will the gained insights help creating a positive business impact?\n",
        "Are there any insights that lead to negative growth? Justify with specific reason."
      ],
      "metadata": {
        "id": "qYpmQ266Yuh3"
      }
    },
    {
      "cell_type": "markdown",
      "source": [
        "Answer Here"
      ],
      "metadata": {
        "id": "_WtzZ_hCYuh4"
      }
    },
    {
      "cell_type": "markdown",
      "source": [
        "#### Chart - 6"
      ],
      "metadata": {
        "id": "OH-pJp9IphqM"
      }
    },
    {
      "cell_type": "code",
      "source": [
        "# Chart - 6 visualization code"
      ],
      "metadata": {
        "id": "kuRf4wtuphqN"
      },
      "execution_count": null,
      "outputs": []
    },
    {
      "cell_type": "markdown",
      "source": [
        "##### 1. Why did you pick the specific chart?"
      ],
      "metadata": {
        "id": "bbFf2-_FphqN"
      }
    },
    {
      "cell_type": "markdown",
      "source": [
        "Answer Here."
      ],
      "metadata": {
        "id": "loh7H2nzphqN"
      }
    },
    {
      "cell_type": "markdown",
      "source": [
        "##### 2. What is/are the insight(s) found from the chart?"
      ],
      "metadata": {
        "id": "_ouA3fa0phqN"
      }
    },
    {
      "cell_type": "markdown",
      "source": [
        "Answer Here"
      ],
      "metadata": {
        "id": "VECbqPI7phqN"
      }
    },
    {
      "cell_type": "markdown",
      "source": [
        "##### 3. Will the gained insights help creating a positive business impact?\n",
        "Are there any insights that lead to negative growth? Justify with specific reason."
      ],
      "metadata": {
        "id": "Seke61FWphqN"
      }
    },
    {
      "cell_type": "markdown",
      "source": [
        "Answer Here"
      ],
      "metadata": {
        "id": "DW4_bGpfphqN"
      }
    },
    {
      "cell_type": "markdown",
      "source": [
        "#### Chart - 7"
      ],
      "metadata": {
        "id": "PIIx-8_IphqN"
      }
    },
    {
      "cell_type": "code",
      "source": [
        "# Chart - 7 visualization code"
      ],
      "metadata": {
        "id": "lqAIGUfyphqO"
      },
      "execution_count": null,
      "outputs": []
    },
    {
      "cell_type": "markdown",
      "source": [
        "##### 1. Why did you pick the specific chart?"
      ],
      "metadata": {
        "id": "t27r6nlMphqO"
      }
    },
    {
      "cell_type": "markdown",
      "source": [
        "Answer Here."
      ],
      "metadata": {
        "id": "iv6ro40sphqO"
      }
    },
    {
      "cell_type": "markdown",
      "source": [
        "##### 2. What is/are the insight(s) found from the chart?"
      ],
      "metadata": {
        "id": "r2jJGEOYphqO"
      }
    },
    {
      "cell_type": "markdown",
      "source": [
        "Answer Here"
      ],
      "metadata": {
        "id": "Po6ZPi4hphqO"
      }
    },
    {
      "cell_type": "markdown",
      "source": [
        "##### 3. Will the gained insights help creating a positive business impact?\n",
        "Are there any insights that lead to negative growth? Justify with specific reason."
      ],
      "metadata": {
        "id": "b0JNsNcRphqO"
      }
    },
    {
      "cell_type": "markdown",
      "source": [
        "Answer Here"
      ],
      "metadata": {
        "id": "xvSq8iUTphqO"
      }
    },
    {
      "cell_type": "markdown",
      "source": [
        "#### Chart - 8"
      ],
      "metadata": {
        "id": "BZR9WyysphqO"
      }
    },
    {
      "cell_type": "code",
      "source": [
        "# Chart - 8 visualization code"
      ],
      "metadata": {
        "id": "TdPTWpAVphqO"
      },
      "execution_count": null,
      "outputs": []
    },
    {
      "cell_type": "markdown",
      "source": [
        "##### 1. Why did you pick the specific chart?"
      ],
      "metadata": {
        "id": "jj7wYXLtphqO"
      }
    },
    {
      "cell_type": "markdown",
      "source": [
        "Answer Here."
      ],
      "metadata": {
        "id": "Ob8u6rCTphqO"
      }
    },
    {
      "cell_type": "markdown",
      "source": [
        "##### 2. What is/are the insight(s) found from the chart?"
      ],
      "metadata": {
        "id": "eZrbJ2SmphqO"
      }
    },
    {
      "cell_type": "markdown",
      "source": [
        "Answer Here"
      ],
      "metadata": {
        "id": "mZtgC_hjphqO"
      }
    },
    {
      "cell_type": "markdown",
      "source": [
        "##### 3. Will the gained insights help creating a positive business impact?\n",
        "Are there any insights that lead to negative growth? Justify with specific reason."
      ],
      "metadata": {
        "id": "rFu4xreNphqO"
      }
    },
    {
      "cell_type": "markdown",
      "source": [
        "Answer Here"
      ],
      "metadata": {
        "id": "ey_0qi68phqO"
      }
    },
    {
      "cell_type": "markdown",
      "source": [
        "#### Chart - 9"
      ],
      "metadata": {
        "id": "YJ55k-q6phqO"
      }
    },
    {
      "cell_type": "code",
      "source": [
        "# Chart - 9 visualization code"
      ],
      "metadata": {
        "id": "B2aS4O1ophqO"
      },
      "execution_count": null,
      "outputs": []
    },
    {
      "cell_type": "markdown",
      "source": [
        "##### 1. Why did you pick the specific chart?"
      ],
      "metadata": {
        "id": "gCFgpxoyphqP"
      }
    },
    {
      "cell_type": "markdown",
      "source": [
        "Answer Here."
      ],
      "metadata": {
        "id": "TVxDimi2phqP"
      }
    },
    {
      "cell_type": "markdown",
      "source": [
        "##### 2. What is/are the insight(s) found from the chart?"
      ],
      "metadata": {
        "id": "OVtJsKN_phqQ"
      }
    },
    {
      "cell_type": "markdown",
      "source": [
        "Answer Here"
      ],
      "metadata": {
        "id": "ngGi97qjphqQ"
      }
    },
    {
      "cell_type": "markdown",
      "source": [
        "##### 3. Will the gained insights help creating a positive business impact?\n",
        "Are there any insights that lead to negative growth? Justify with specific reason."
      ],
      "metadata": {
        "id": "lssrdh5qphqQ"
      }
    },
    {
      "cell_type": "markdown",
      "source": [
        "Answer Here"
      ],
      "metadata": {
        "id": "tBpY5ekJphqQ"
      }
    },
    {
      "cell_type": "markdown",
      "source": [
        "#### Chart - 10"
      ],
      "metadata": {
        "id": "U2RJ9gkRphqQ"
      }
    },
    {
      "cell_type": "code",
      "source": [
        "# Chart - 10 visualization code"
      ],
      "metadata": {
        "id": "GM7a4YP4phqQ"
      },
      "execution_count": null,
      "outputs": []
    },
    {
      "cell_type": "markdown",
      "source": [
        "##### 1. Why did you pick the specific chart?"
      ],
      "metadata": {
        "id": "1M8mcRywphqQ"
      }
    },
    {
      "cell_type": "markdown",
      "source": [
        "Answer Here."
      ],
      "metadata": {
        "id": "8agQvks0phqQ"
      }
    },
    {
      "cell_type": "markdown",
      "source": [
        "##### 2. What is/are the insight(s) found from the chart?"
      ],
      "metadata": {
        "id": "tgIPom80phqQ"
      }
    },
    {
      "cell_type": "markdown",
      "source": [
        "Answer Here"
      ],
      "metadata": {
        "id": "Qp13pnNzphqQ"
      }
    },
    {
      "cell_type": "markdown",
      "source": [
        "##### 3. Will the gained insights help creating a positive business impact?\n",
        "Are there any insights that lead to negative growth? Justify with specific reason."
      ],
      "metadata": {
        "id": "JMzcOPDDphqR"
      }
    },
    {
      "cell_type": "markdown",
      "source": [
        "Answer Here"
      ],
      "metadata": {
        "id": "R4Ka1PC2phqR"
      }
    },
    {
      "cell_type": "markdown",
      "source": [
        "#### Chart - 11"
      ],
      "metadata": {
        "id": "x-EpHcCOp1ci"
      }
    },
    {
      "cell_type": "code",
      "source": [
        "# Chart - 11 visualization code"
      ],
      "metadata": {
        "id": "mAQTIvtqp1cj"
      },
      "execution_count": null,
      "outputs": []
    },
    {
      "cell_type": "markdown",
      "source": [
        "##### 1. Why did you pick the specific chart?"
      ],
      "metadata": {
        "id": "X_VqEhTip1ck"
      }
    },
    {
      "cell_type": "markdown",
      "source": [
        "Answer Here."
      ],
      "metadata": {
        "id": "-vsMzt_np1ck"
      }
    },
    {
      "cell_type": "markdown",
      "source": [
        "##### 2. What is/are the insight(s) found from the chart?"
      ],
      "metadata": {
        "id": "8zGJKyg5p1ck"
      }
    },
    {
      "cell_type": "markdown",
      "source": [
        "Answer Here"
      ],
      "metadata": {
        "id": "ZYdMsrqVp1ck"
      }
    },
    {
      "cell_type": "markdown",
      "source": [
        "##### 3. Will the gained insights help creating a positive business impact?\n",
        "Are there any insights that lead to negative growth? Justify with specific reason."
      ],
      "metadata": {
        "id": "PVzmfK_Ep1ck"
      }
    },
    {
      "cell_type": "markdown",
      "source": [
        "Answer Here"
      ],
      "metadata": {
        "id": "druuKYZpp1ck"
      }
    },
    {
      "cell_type": "markdown",
      "source": [
        "#### Chart - 12"
      ],
      "metadata": {
        "id": "n3dbpmDWp1ck"
      }
    },
    {
      "cell_type": "code",
      "source": [
        "# Chart - 12 visualization code"
      ],
      "metadata": {
        "id": "bwevp1tKp1ck"
      },
      "execution_count": null,
      "outputs": []
    },
    {
      "cell_type": "markdown",
      "source": [
        "##### 1. Why did you pick the specific chart?"
      ],
      "metadata": {
        "id": "ylSl6qgtp1ck"
      }
    },
    {
      "cell_type": "markdown",
      "source": [
        "Answer Here."
      ],
      "metadata": {
        "id": "m2xqNkiQp1ck"
      }
    },
    {
      "cell_type": "markdown",
      "source": [
        "##### 2. What is/are the insight(s) found from the chart?"
      ],
      "metadata": {
        "id": "ZWILFDl5p1ck"
      }
    },
    {
      "cell_type": "markdown",
      "source": [
        "Answer Here"
      ],
      "metadata": {
        "id": "x-lUsV2mp1ck"
      }
    },
    {
      "cell_type": "markdown",
      "source": [
        "##### 3. Will the gained insights help creating a positive business impact?\n",
        "Are there any insights that lead to negative growth? Justify with specific reason."
      ],
      "metadata": {
        "id": "M7G43BXep1ck"
      }
    },
    {
      "cell_type": "markdown",
      "source": [
        "Answer Here"
      ],
      "metadata": {
        "id": "5wwDJXsLp1cl"
      }
    },
    {
      "cell_type": "markdown",
      "source": [
        "#### Chart - 13"
      ],
      "metadata": {
        "id": "Ag9LCva-p1cl"
      }
    },
    {
      "cell_type": "code",
      "source": [
        "# Chart - 13 visualization code"
      ],
      "metadata": {
        "id": "EUfxeq9-p1cl"
      },
      "execution_count": null,
      "outputs": []
    },
    {
      "cell_type": "markdown",
      "source": [
        "##### 1. Why did you pick the specific chart?"
      ],
      "metadata": {
        "id": "E6MkPsBcp1cl"
      }
    },
    {
      "cell_type": "markdown",
      "source": [
        "Answer Here."
      ],
      "metadata": {
        "id": "V22bRsFWp1cl"
      }
    },
    {
      "cell_type": "markdown",
      "source": [
        "##### 2. What is/are the insight(s) found from the chart?"
      ],
      "metadata": {
        "id": "2cELzS2fp1cl"
      }
    },
    {
      "cell_type": "markdown",
      "source": [
        "Answer Here"
      ],
      "metadata": {
        "id": "ozQPc2_Ip1cl"
      }
    },
    {
      "cell_type": "markdown",
      "source": [
        "##### 3. Will the gained insights help creating a positive business impact?\n",
        "Are there any insights that lead to negative growth? Justify with specific reason."
      ],
      "metadata": {
        "id": "3MPXvC8up1cl"
      }
    },
    {
      "cell_type": "markdown",
      "source": [
        "Answer Here"
      ],
      "metadata": {
        "id": "GL8l1tdLp1cl"
      }
    },
    {
      "cell_type": "markdown",
      "source": [
        "#### Chart - 14 - Correlation Heatmap"
      ],
      "metadata": {
        "id": "NC_X3p0fY2L0"
      }
    },
    {
      "cell_type": "code",
      "source": [
        "# Correlation Heatmap visualization code"
      ],
      "metadata": {
        "id": "xyC9zolEZNRQ"
      },
      "execution_count": null,
      "outputs": []
    },
    {
      "cell_type": "markdown",
      "source": [
        "##### 1. Why did you pick the specific chart?"
      ],
      "metadata": {
        "id": "UV0SzAkaZNRQ"
      }
    },
    {
      "cell_type": "markdown",
      "source": [
        "Answer Here."
      ],
      "metadata": {
        "id": "DVPuT8LYZNRQ"
      }
    },
    {
      "cell_type": "markdown",
      "source": [
        "##### 2. What is/are the insight(s) found from the chart?"
      ],
      "metadata": {
        "id": "YPEH6qLeZNRQ"
      }
    },
    {
      "cell_type": "markdown",
      "source": [
        "Answer Here"
      ],
      "metadata": {
        "id": "bfSqtnDqZNRR"
      }
    },
    {
      "cell_type": "markdown",
      "source": [
        "#### Chart - 15 - Pair Plot"
      ],
      "metadata": {
        "id": "q29F0dvdveiT"
      }
    },
    {
      "cell_type": "code",
      "source": [
        "# Pair Plot visualization code"
      ],
      "metadata": {
        "id": "o58-TEIhveiU"
      },
      "execution_count": null,
      "outputs": []
    },
    {
      "cell_type": "markdown",
      "source": [
        "##### 1. Why did you pick the specific chart?"
      ],
      "metadata": {
        "id": "EXh0U9oCveiU"
      }
    },
    {
      "cell_type": "markdown",
      "source": [
        "Answer Here."
      ],
      "metadata": {
        "id": "eMmPjTByveiU"
      }
    },
    {
      "cell_type": "markdown",
      "source": [
        "##### 2. What is/are the insight(s) found from the chart?"
      ],
      "metadata": {
        "id": "22aHeOlLveiV"
      }
    },
    {
      "cell_type": "markdown",
      "source": [
        "Answer Here"
      ],
      "metadata": {
        "id": "uPQ8RGwHveiV"
      }
    },
    {
      "cell_type": "markdown",
      "source": [
        "## ***5. Hypothesis Testing***"
      ],
      "metadata": {
        "id": "g-ATYxFrGrvw"
      }
    },
    {
      "cell_type": "markdown",
      "source": [
        "### Based on your chart experiments, define three hypothetical statements from the dataset. In the next three questions, perform hypothesis testing to obtain final conclusion about the statements through your code and statistical testing."
      ],
      "metadata": {
        "id": "Yfr_Vlr8HBkt"
      }
    },
    {
      "cell_type": "markdown",
      "source": [
        "Answer Here."
      ],
      "metadata": {
        "id": "-7MS06SUHkB-"
      }
    },
    {
      "cell_type": "markdown",
      "source": [
        "### Hypothetical Statement - 1"
      ],
      "metadata": {
        "id": "8yEUt7NnHlrM"
      }
    },
    {
      "cell_type": "markdown",
      "source": [
        "#### 1. State Your research hypothesis as a null hypothesis and alternate hypothesis."
      ],
      "metadata": {
        "id": "tEA2Xm5dHt1r"
      }
    },
    {
      "cell_type": "markdown",
      "source": [
        "Answer Here."
      ],
      "metadata": {
        "id": "HI9ZP0laH0D-"
      }
    },
    {
      "cell_type": "markdown",
      "source": [
        "#### 2. Perform an appropriate statistical test."
      ],
      "metadata": {
        "id": "I79__PHVH19G"
      }
    },
    {
      "cell_type": "code",
      "source": [
        "# Perform Statistical Test to obtain P-Value"
      ],
      "metadata": {
        "id": "oZrfquKtyian"
      },
      "execution_count": null,
      "outputs": []
    },
    {
      "cell_type": "markdown",
      "source": [
        "##### Which statistical test have you done to obtain P-Value?"
      ],
      "metadata": {
        "id": "Ou-I18pAyIpj"
      }
    },
    {
      "cell_type": "markdown",
      "source": [
        "Answer Here."
      ],
      "metadata": {
        "id": "s2U0kk00ygSB"
      }
    },
    {
      "cell_type": "markdown",
      "source": [
        "##### Why did you choose the specific statistical test?"
      ],
      "metadata": {
        "id": "fF3858GYyt-u"
      }
    },
    {
      "cell_type": "markdown",
      "source": [
        "Answer Here."
      ],
      "metadata": {
        "id": "HO4K0gP5y3B4"
      }
    },
    {
      "cell_type": "markdown",
      "source": [
        "### Hypothetical Statement - 2"
      ],
      "metadata": {
        "id": "4_0_7-oCpUZd"
      }
    },
    {
      "cell_type": "markdown",
      "source": [
        "#### 1. State Your research hypothesis as a null hypothesis and alternate hypothesis."
      ],
      "metadata": {
        "id": "hwyV_J3ipUZe"
      }
    },
    {
      "cell_type": "markdown",
      "source": [
        "Answer Here."
      ],
      "metadata": {
        "id": "FnpLGJ-4pUZe"
      }
    },
    {
      "cell_type": "markdown",
      "source": [
        "#### 2. Perform an appropriate statistical test."
      ],
      "metadata": {
        "id": "3yB-zSqbpUZe"
      }
    },
    {
      "cell_type": "code",
      "source": [
        "# Perform Statistical Test to obtain P-Value"
      ],
      "metadata": {
        "id": "sWxdNTXNpUZe"
      },
      "execution_count": null,
      "outputs": []
    },
    {
      "cell_type": "markdown",
      "source": [
        "##### Which statistical test have you done to obtain P-Value?"
      ],
      "metadata": {
        "id": "dEUvejAfpUZe"
      }
    },
    {
      "cell_type": "markdown",
      "source": [
        "Answer Here."
      ],
      "metadata": {
        "id": "oLDrPz7HpUZf"
      }
    },
    {
      "cell_type": "markdown",
      "source": [
        "##### Why did you choose the specific statistical test?"
      ],
      "metadata": {
        "id": "Fd15vwWVpUZf"
      }
    },
    {
      "cell_type": "markdown",
      "source": [
        "Answer Here."
      ],
      "metadata": {
        "id": "4xOGYyiBpUZf"
      }
    },
    {
      "cell_type": "markdown",
      "source": [
        "### Hypothetical Statement - 3"
      ],
      "metadata": {
        "id": "bn_IUdTipZyH"
      }
    },
    {
      "cell_type": "markdown",
      "source": [
        "#### 1. State Your research hypothesis as a null hypothesis and alternate hypothesis."
      ],
      "metadata": {
        "id": "49K5P_iCpZyH"
      }
    },
    {
      "cell_type": "markdown",
      "source": [
        "Answer Here."
      ],
      "metadata": {
        "id": "7gWI5rT9pZyH"
      }
    },
    {
      "cell_type": "markdown",
      "source": [
        "#### 2. Perform an appropriate statistical test."
      ],
      "metadata": {
        "id": "Nff-vKELpZyI"
      }
    },
    {
      "cell_type": "code",
      "source": [
        "# Perform Statistical Test to obtain P-Value"
      ],
      "metadata": {
        "id": "s6AnJQjtpZyI"
      },
      "execution_count": null,
      "outputs": []
    },
    {
      "cell_type": "markdown",
      "source": [
        "##### Which statistical test have you done to obtain P-Value?"
      ],
      "metadata": {
        "id": "kLW572S8pZyI"
      }
    },
    {
      "cell_type": "markdown",
      "source": [
        "Answer Here."
      ],
      "metadata": {
        "id": "ytWJ8v15pZyI"
      }
    },
    {
      "cell_type": "markdown",
      "source": [
        "##### Why did you choose the specific statistical test?"
      ],
      "metadata": {
        "id": "dWbDXHzopZyI"
      }
    },
    {
      "cell_type": "markdown",
      "source": [
        "Answer Here."
      ],
      "metadata": {
        "id": "M99G98V6pZyI"
      }
    },
    {
      "cell_type": "markdown",
      "source": [
        "## ***6. Feature Engineering & Data Pre-processing***"
      ],
      "metadata": {
        "id": "yLjJCtPM0KBk"
      }
    },
    {
      "cell_type": "markdown",
      "source": [
        "### 1. Handling Missing Values"
      ],
      "metadata": {
        "id": "xiyOF9F70UgQ"
      }
    },
    {
      "cell_type": "code",
      "source": [
        "# Handling Missing Values & Missing Value Imputation"
      ],
      "metadata": {
        "id": "iRsAHk1K0fpS"
      },
      "execution_count": null,
      "outputs": []
    },
    {
      "cell_type": "markdown",
      "source": [
        "#### What all missing value imputation techniques have you used and why did you use those techniques?"
      ],
      "metadata": {
        "id": "7wuGOrhz0itI"
      }
    },
    {
      "cell_type": "markdown",
      "source": [
        "Answer Here."
      ],
      "metadata": {
        "id": "1ixusLtI0pqI"
      }
    },
    {
      "cell_type": "markdown",
      "source": [
        "### 2. Handling Outliers"
      ],
      "metadata": {
        "id": "id1riN9m0vUs"
      }
    },
    {
      "cell_type": "code",
      "source": [
        "# Handling Outliers & Outlier treatments"
      ],
      "metadata": {
        "id": "M6w2CzZf04JK"
      },
      "execution_count": null,
      "outputs": []
    },
    {
      "cell_type": "markdown",
      "source": [
        "##### What all outlier treatment techniques have you used and why did you use those techniques?"
      ],
      "metadata": {
        "id": "578E2V7j08f6"
      }
    },
    {
      "cell_type": "markdown",
      "source": [
        "Answer Here."
      ],
      "metadata": {
        "id": "uGZz5OrT1HH-"
      }
    },
    {
      "cell_type": "markdown",
      "source": [
        "### 3. Categorical Encoding"
      ],
      "metadata": {
        "id": "89xtkJwZ18nB"
      }
    },
    {
      "cell_type": "code",
      "source": [
        "# Encode your categorical columns"
      ],
      "metadata": {
        "id": "21JmIYMG2hEo"
      },
      "execution_count": null,
      "outputs": []
    },
    {
      "cell_type": "markdown",
      "source": [
        "#### What all categorical encoding techniques have you used & why did you use those techniques?"
      ],
      "metadata": {
        "id": "67NQN5KX2AMe"
      }
    },
    {
      "cell_type": "markdown",
      "source": [
        "Answer Here."
      ],
      "metadata": {
        "id": "UDaue5h32n_G"
      }
    },
    {
      "cell_type": "markdown",
      "source": [
        "### 4. Textual Data Preprocessing\n",
        "(It's mandatory for textual dataset i.e., NLP, Sentiment Analysis, Text Clustering etc.)"
      ],
      "metadata": {
        "id": "Iwf50b-R2tYG"
      }
    },
    {
      "cell_type": "markdown",
      "source": [
        "#### 1. Expand Contraction"
      ],
      "metadata": {
        "id": "GMQiZwjn3iu7"
      }
    },
    {
      "cell_type": "code",
      "source": [
        "# Expand Contraction"
      ],
      "metadata": {
        "id": "PTouz10C3oNN"
      },
      "execution_count": null,
      "outputs": []
    },
    {
      "cell_type": "markdown",
      "source": [
        "#### 2. Lower Casing"
      ],
      "metadata": {
        "id": "WVIkgGqN3qsr"
      }
    },
    {
      "cell_type": "code",
      "source": [
        "# Lower Casing"
      ],
      "metadata": {
        "id": "88JnJ1jN3w7j"
      },
      "execution_count": null,
      "outputs": []
    },
    {
      "cell_type": "markdown",
      "source": [
        "#### 3. Removing Punctuations"
      ],
      "metadata": {
        "id": "XkPnILGE3zoT"
      }
    },
    {
      "cell_type": "code",
      "source": [
        "# Remove Punctuations"
      ],
      "metadata": {
        "id": "vqbBqNaA33c0"
      },
      "execution_count": null,
      "outputs": []
    },
    {
      "cell_type": "markdown",
      "source": [
        "#### 4. Removing URLs & Removing words and digits contain digits."
      ],
      "metadata": {
        "id": "Hlsf0x5436Go"
      }
    },
    {
      "cell_type": "code",
      "source": [
        "# Remove URLs & Remove words and digits contain digits"
      ],
      "metadata": {
        "id": "2sxKgKxu4Ip3"
      },
      "execution_count": null,
      "outputs": []
    },
    {
      "cell_type": "markdown",
      "source": [
        "#### 5. Removing Stopwords & Removing White spaces"
      ],
      "metadata": {
        "id": "mT9DMSJo4nBL"
      }
    },
    {
      "cell_type": "code",
      "source": [
        "# Remove Stopwords"
      ],
      "metadata": {
        "id": "T2LSJh154s8W"
      },
      "execution_count": null,
      "outputs": []
    },
    {
      "cell_type": "code",
      "source": [
        "# Remove White spaces"
      ],
      "metadata": {
        "id": "EgLJGffy4vm0"
      },
      "execution_count": null,
      "outputs": []
    },
    {
      "cell_type": "markdown",
      "source": [
        "#### 6. Rephrase Text"
      ],
      "metadata": {
        "id": "c49ITxTc407N"
      }
    },
    {
      "cell_type": "code",
      "source": [
        "# Rephrase Text"
      ],
      "metadata": {
        "id": "foqY80Qu48N2"
      },
      "execution_count": null,
      "outputs": []
    },
    {
      "cell_type": "markdown",
      "source": [
        "#### 7. Tokenization"
      ],
      "metadata": {
        "id": "OeJFEK0N496M"
      }
    },
    {
      "cell_type": "code",
      "source": [
        "# Tokenization"
      ],
      "metadata": {
        "id": "ijx1rUOS5CUU"
      },
      "execution_count": null,
      "outputs": []
    },
    {
      "cell_type": "markdown",
      "source": [
        "#### 8. Text Normalization"
      ],
      "metadata": {
        "id": "9ExmJH0g5HBk"
      }
    },
    {
      "cell_type": "code",
      "source": [
        "# Normalizing Text (i.e., Stemming, Lemmatization etc.)"
      ],
      "metadata": {
        "id": "AIJ1a-Zc5PY8"
      },
      "execution_count": null,
      "outputs": []
    },
    {
      "cell_type": "markdown",
      "source": [
        "##### Which text normalization technique have you used and why?"
      ],
      "metadata": {
        "id": "cJNqERVU536h"
      }
    },
    {
      "cell_type": "markdown",
      "source": [
        "Answer Here."
      ],
      "metadata": {
        "id": "Z9jKVxE06BC1"
      }
    },
    {
      "cell_type": "markdown",
      "source": [
        "#### 9. Part of speech tagging"
      ],
      "metadata": {
        "id": "k5UmGsbsOxih"
      }
    },
    {
      "cell_type": "code",
      "source": [
        "# POS Taging"
      ],
      "metadata": {
        "id": "btT3ZJBAO6Ik"
      },
      "execution_count": null,
      "outputs": []
    },
    {
      "cell_type": "markdown",
      "source": [
        "#### 10. Text Vectorization"
      ],
      "metadata": {
        "id": "T0VqWOYE6DLQ"
      }
    },
    {
      "cell_type": "code",
      "source": [
        "# Vectorizing Text"
      ],
      "metadata": {
        "id": "yBRtdhth6JDE"
      },
      "execution_count": null,
      "outputs": []
    },
    {
      "cell_type": "markdown",
      "source": [
        "##### Which text vectorization technique have you used and why?"
      ],
      "metadata": {
        "id": "qBMux9mC6MCf"
      }
    },
    {
      "cell_type": "markdown",
      "source": [
        "Answer Here."
      ],
      "metadata": {
        "id": "su2EnbCh6UKQ"
      }
    },
    {
      "cell_type": "markdown",
      "source": [
        "### 4. Feature Manipulation & Selection"
      ],
      "metadata": {
        "id": "-oLEiFgy-5Pf"
      }
    },
    {
      "cell_type": "markdown",
      "source": [
        "#### 1. Feature Manipulation"
      ],
      "metadata": {
        "id": "C74aWNz2AliB"
      }
    },
    {
      "cell_type": "code",
      "source": [
        "# Manipulate Features to minimize feature correlation and create new features"
      ],
      "metadata": {
        "id": "h1qC4yhBApWC"
      },
      "execution_count": null,
      "outputs": []
    },
    {
      "cell_type": "markdown",
      "source": [
        "#### 2. Feature Selection"
      ],
      "metadata": {
        "id": "2DejudWSA-a0"
      }
    },
    {
      "cell_type": "code",
      "source": [
        "# Select your features wisely to avoid overfitting"
      ],
      "metadata": {
        "id": "YLhe8UmaBCEE"
      },
      "execution_count": null,
      "outputs": []
    },
    {
      "cell_type": "markdown",
      "source": [
        "##### What all feature selection methods have you used  and why?"
      ],
      "metadata": {
        "id": "pEMng2IbBLp7"
      }
    },
    {
      "cell_type": "markdown",
      "source": [
        "Answer Here."
      ],
      "metadata": {
        "id": "rb2Lh6Z8BgGs"
      }
    },
    {
      "cell_type": "markdown",
      "source": [
        "##### Which all features you found important and why?"
      ],
      "metadata": {
        "id": "rAdphbQ9Bhjc"
      }
    },
    {
      "cell_type": "markdown",
      "source": [
        "Answer Here."
      ],
      "metadata": {
        "id": "fGgaEstsBnaf"
      }
    },
    {
      "cell_type": "markdown",
      "source": [
        "### 5. Data Transformation"
      ],
      "metadata": {
        "id": "TNVZ9zx19K6k"
      }
    },
    {
      "cell_type": "markdown",
      "source": [
        "#### Do you think that your data needs to be transformed? If yes, which transformation have you used. Explain Why?"
      ],
      "metadata": {
        "id": "nqoHp30x9hH9"
      }
    },
    {
      "cell_type": "code",
      "source": [
        "# Transform Your data"
      ],
      "metadata": {
        "id": "I6quWQ1T9rtH"
      },
      "execution_count": null,
      "outputs": []
    },
    {
      "cell_type": "markdown",
      "source": [
        "### 6. Data Scaling"
      ],
      "metadata": {
        "id": "rMDnDkt2B6du"
      }
    },
    {
      "cell_type": "code",
      "source": [
        "# Scaling your data"
      ],
      "metadata": {
        "id": "dL9LWpySC6x_"
      },
      "execution_count": null,
      "outputs": []
    },
    {
      "cell_type": "markdown",
      "source": [
        "##### Which method have you used to scale you data and why?"
      ],
      "metadata": {
        "id": "yiiVWRdJDDil"
      }
    },
    {
      "cell_type": "markdown",
      "source": [
        "### 7. Dimesionality Reduction"
      ],
      "metadata": {
        "id": "1UUpS68QDMuG"
      }
    },
    {
      "cell_type": "markdown",
      "source": [
        "##### Do you think that dimensionality reduction is needed? Explain Why?"
      ],
      "metadata": {
        "id": "kexQrXU-DjzY"
      }
    },
    {
      "cell_type": "markdown",
      "source": [
        "Answer Here."
      ],
      "metadata": {
        "id": "GGRlBsSGDtTQ"
      }
    },
    {
      "cell_type": "code",
      "source": [
        "# DImensionality Reduction (If needed)"
      ],
      "metadata": {
        "id": "kQfvxBBHDvCa"
      },
      "execution_count": null,
      "outputs": []
    },
    {
      "cell_type": "markdown",
      "source": [
        "##### Which dimensionality reduction technique have you used and why? (If dimensionality reduction done on dataset.)"
      ],
      "metadata": {
        "id": "T5CmagL3EC8N"
      }
    },
    {
      "cell_type": "markdown",
      "source": [
        "Answer Here."
      ],
      "metadata": {
        "id": "ZKr75IDuEM7t"
      }
    },
    {
      "cell_type": "markdown",
      "source": [
        "### 8. Data Splitting"
      ],
      "metadata": {
        "id": "BhH2vgX9EjGr"
      }
    },
    {
      "cell_type": "code",
      "source": [
        "# Split your data to train and test. Choose Splitting ratio wisely."
      ],
      "metadata": {
        "id": "0CTyd2UwEyNM"
      },
      "execution_count": null,
      "outputs": []
    },
    {
      "cell_type": "markdown",
      "source": [
        "##### What data splitting ratio have you used and why?"
      ],
      "metadata": {
        "id": "qjKvONjwE8ra"
      }
    },
    {
      "cell_type": "markdown",
      "source": [
        "Answer Here."
      ],
      "metadata": {
        "id": "Y2lJ8cobFDb_"
      }
    },
    {
      "cell_type": "markdown",
      "source": [
        "### 9. Handling Imbalanced Dataset"
      ],
      "metadata": {
        "id": "P1XJ9OREExlT"
      }
    },
    {
      "cell_type": "markdown",
      "source": [
        "##### Do you think the dataset is imbalanced? Explain Why."
      ],
      "metadata": {
        "id": "VFOzZv6IFROw"
      }
    },
    {
      "cell_type": "markdown",
      "source": [
        "Answer Here."
      ],
      "metadata": {
        "id": "GeKDIv7pFgcC"
      }
    },
    {
      "cell_type": "code",
      "source": [
        "# Handling Imbalanced Dataset (If needed)"
      ],
      "metadata": {
        "id": "nQsRhhZLFiDs"
      },
      "execution_count": null,
      "outputs": []
    },
    {
      "cell_type": "markdown",
      "source": [
        "##### What technique did you use to handle the imbalance dataset and why? (If needed to be balanced)"
      ],
      "metadata": {
        "id": "TIqpNgepFxVj"
      }
    },
    {
      "cell_type": "markdown",
      "source": [
        "Answer Here."
      ],
      "metadata": {
        "id": "qbet1HwdGDTz"
      }
    },
    {
      "cell_type": "markdown",
      "source": [
        "## ***7. ML Model Implementation***"
      ],
      "metadata": {
        "id": "VfCC591jGiD4"
      }
    },
    {
      "cell_type": "markdown",
      "source": [
        "### ML Model - 1"
      ],
      "metadata": {
        "id": "OB4l2ZhMeS1U"
      }
    },
    {
      "cell_type": "code",
      "source": [
        "# ML Model - 1 Implementation\n",
        "\n",
        "# Fit the Algorithm\n",
        "\n",
        "# Predict on the model"
      ],
      "metadata": {
        "id": "7ebyywQieS1U"
      },
      "execution_count": null,
      "outputs": []
    },
    {
      "cell_type": "markdown",
      "source": [
        "#### 1. Explain the ML Model used and it's performance using Evaluation metric Score Chart."
      ],
      "metadata": {
        "id": "ArJBuiUVfxKd"
      }
    },
    {
      "cell_type": "code",
      "source": [
        "# Visualizing evaluation Metric Score chart"
      ],
      "metadata": {
        "id": "rqD5ZohzfxKe"
      },
      "execution_count": null,
      "outputs": []
    },
    {
      "cell_type": "markdown",
      "source": [
        "#### 2. Cross- Validation & Hyperparameter Tuning"
      ],
      "metadata": {
        "id": "4qY1EAkEfxKe"
      }
    },
    {
      "cell_type": "code",
      "source": [
        "# ML Model - 1 Implementation with hyperparameter optimization techniques (i.e., GridSearch CV, RandomSearch CV, Bayesian Optimization etc.)\n",
        "\n",
        "# Fit the Algorithm\n",
        "\n",
        "# Predict on the model"
      ],
      "metadata": {
        "id": "Dy61ujd6fxKe"
      },
      "execution_count": null,
      "outputs": []
    },
    {
      "cell_type": "markdown",
      "source": [
        "##### Which hyperparameter optimization technique have you used and why?"
      ],
      "metadata": {
        "id": "PiV4Ypx8fxKe"
      }
    },
    {
      "cell_type": "markdown",
      "source": [
        "Answer Here."
      ],
      "metadata": {
        "id": "negyGRa7fxKf"
      }
    },
    {
      "cell_type": "markdown",
      "source": [
        "##### Have you seen any improvement? Note down the improvement with updates Evaluation metric Score Chart."
      ],
      "metadata": {
        "id": "TfvqoZmBfxKf"
      }
    },
    {
      "cell_type": "markdown",
      "source": [
        "Answer Here."
      ],
      "metadata": {
        "id": "OaLui8CcfxKf"
      }
    },
    {
      "cell_type": "markdown",
      "source": [
        "### ML Model - 2"
      ],
      "metadata": {
        "id": "dJ2tPlVmpsJ0"
      }
    },
    {
      "cell_type": "markdown",
      "source": [
        "#### 1. Explain the ML Model used and it's performance using Evaluation metric Score Chart."
      ],
      "metadata": {
        "id": "JWYfwnehpsJ1"
      }
    },
    {
      "cell_type": "code",
      "source": [
        "# Visualizing evaluation Metric Score chart"
      ],
      "metadata": {
        "id": "yEl-hgQWpsJ1"
      },
      "execution_count": null,
      "outputs": []
    },
    {
      "cell_type": "markdown",
      "source": [
        "#### 2. Cross- Validation & Hyperparameter Tuning"
      ],
      "metadata": {
        "id": "-jK_YjpMpsJ2"
      }
    },
    {
      "cell_type": "code",
      "source": [
        "# ML Model - 1 Implementation with hyperparameter optimization techniques (i.e., GridSearch CV, RandomSearch CV, Bayesian Optimization etc.)\n",
        "\n",
        "# Fit the Algorithm\n",
        "\n",
        "# Predict on the model"
      ],
      "metadata": {
        "id": "Dn0EOfS6psJ2"
      },
      "execution_count": null,
      "outputs": []
    },
    {
      "cell_type": "markdown",
      "source": [
        "##### Which hyperparameter optimization technique have you used and why?"
      ],
      "metadata": {
        "id": "HAih1iBOpsJ2"
      }
    },
    {
      "cell_type": "markdown",
      "source": [
        "Answer Here."
      ],
      "metadata": {
        "id": "9kBgjYcdpsJ2"
      }
    },
    {
      "cell_type": "markdown",
      "source": [
        "##### Have you seen any improvement? Note down the improvement with updates Evaluation metric Score Chart."
      ],
      "metadata": {
        "id": "zVGeBEFhpsJ2"
      }
    },
    {
      "cell_type": "markdown",
      "source": [
        "Answer Here."
      ],
      "metadata": {
        "id": "74yRdG6UpsJ3"
      }
    },
    {
      "cell_type": "markdown",
      "source": [
        "#### 3. Explain each evaluation metric's indication towards business and the business impact pf the ML model used."
      ],
      "metadata": {
        "id": "bmKjuQ-FpsJ3"
      }
    },
    {
      "cell_type": "markdown",
      "source": [
        "Answer Here."
      ],
      "metadata": {
        "id": "BDKtOrBQpsJ3"
      }
    },
    {
      "cell_type": "markdown",
      "source": [
        "### ML Model - 3"
      ],
      "metadata": {
        "id": "Fze-IPXLpx6K"
      }
    },
    {
      "cell_type": "code",
      "source": [
        "# ML Model - 3 Implementation\n",
        "\n",
        "# Fit the Algorithm\n",
        "\n",
        "# Predict on the model"
      ],
      "metadata": {
        "id": "FFrSXAtrpx6M"
      },
      "execution_count": null,
      "outputs": []
    },
    {
      "cell_type": "markdown",
      "source": [
        "#### 1. Explain the ML Model used and it's performance using Evaluation metric Score Chart."
      ],
      "metadata": {
        "id": "7AN1z2sKpx6M"
      }
    },
    {
      "cell_type": "code",
      "source": [
        "# Visualizing evaluation Metric Score chart"
      ],
      "metadata": {
        "id": "xIY4lxxGpx6M"
      },
      "execution_count": null,
      "outputs": []
    },
    {
      "cell_type": "markdown",
      "source": [
        "#### 2. Cross- Validation & Hyperparameter Tuning"
      ],
      "metadata": {
        "id": "9PIHJqyupx6M"
      }
    },
    {
      "cell_type": "code",
      "source": [
        "# ML Model - 3 Implementation with hyperparameter optimization techniques (i.e., GridSearch CV, RandomSearch CV, Bayesian Optimization etc.)\n",
        "\n",
        "# Fit the Algorithm\n",
        "\n",
        "# Predict on the model"
      ],
      "metadata": {
        "id": "eSVXuaSKpx6M"
      },
      "execution_count": null,
      "outputs": []
    },
    {
      "cell_type": "markdown",
      "source": [
        "##### Which hyperparameter optimization technique have you used and why?"
      ],
      "metadata": {
        "id": "_-qAgymDpx6N"
      }
    },
    {
      "cell_type": "markdown",
      "source": [
        "Answer Here."
      ],
      "metadata": {
        "id": "lQMffxkwpx6N"
      }
    },
    {
      "cell_type": "markdown",
      "source": [
        "##### Have you seen any improvement? Note down the improvement with updates Evaluation metric Score Chart."
      ],
      "metadata": {
        "id": "Z-hykwinpx6N"
      }
    },
    {
      "cell_type": "markdown",
      "source": [
        "Answer Here."
      ],
      "metadata": {
        "id": "MzVzZC6opx6N"
      }
    },
    {
      "cell_type": "markdown",
      "source": [
        "### 1. Which Evaluation metrics did you consider for a positive business impact and why?"
      ],
      "metadata": {
        "id": "h_CCil-SKHpo"
      }
    },
    {
      "cell_type": "markdown",
      "source": [
        "Answer Here."
      ],
      "metadata": {
        "id": "jHVz9hHDKFms"
      }
    },
    {
      "cell_type": "markdown",
      "source": [
        "### 2. Which ML model did you choose from the above created models as your final prediction model and why?"
      ],
      "metadata": {
        "id": "cBFFvTBNJzUa"
      }
    },
    {
      "cell_type": "markdown",
      "source": [
        "Answer Here."
      ],
      "metadata": {
        "id": "6ksF5Q1LKTVm"
      }
    },
    {
      "cell_type": "markdown",
      "source": [
        "### 3. Explain the model which you have used and the feature importance using any model explainability tool?"
      ],
      "metadata": {
        "id": "HvGl1hHyA_VK"
      }
    },
    {
      "cell_type": "markdown",
      "source": [
        "Answer Here."
      ],
      "metadata": {
        "id": "YnvVTiIxBL-C"
      }
    },
    {
      "cell_type": "markdown",
      "source": [
        "## ***8.*** ***Future Work (Optional)***"
      ],
      "metadata": {
        "id": "EyNgTHvd2WFk"
      }
    },
    {
      "cell_type": "markdown",
      "source": [
        "### 1. Save the best performing ml model in a pickle file or joblib file format for deployment process.\n"
      ],
      "metadata": {
        "id": "KH5McJBi2d8v"
      }
    },
    {
      "cell_type": "code",
      "source": [
        "# Save the File"
      ],
      "metadata": {
        "id": "bQIANRl32f4J"
      },
      "execution_count": null,
      "outputs": []
    },
    {
      "cell_type": "markdown",
      "source": [
        "### 2. Again Load the saved model file and try to predict unseen data for a sanity check.\n"
      ],
      "metadata": {
        "id": "iW_Lq9qf2h6X"
      }
    },
    {
      "cell_type": "code",
      "source": [
        "# Load the File and predict unseen data."
      ],
      "metadata": {
        "id": "oEXk9ydD2nVC"
      },
      "execution_count": null,
      "outputs": []
    },
    {
      "cell_type": "markdown",
      "source": [
        "### ***Congrats! Your model is successfully created and ready for deployment on a live server for a real user interaction !!!***"
      ],
      "metadata": {
        "id": "-Kee-DAl2viO"
      }
    },
    {
      "cell_type": "markdown",
      "source": [
        "# **Conclusion**"
      ],
      "metadata": {
        "id": "gCX9965dhzqZ"
      }
    },
    {
      "cell_type": "markdown",
      "source": [
        "Write the conclusion here."
      ],
      "metadata": {
        "id": "Fjb1IsQkh3yE"
      }
    },
    {
      "cell_type": "markdown",
      "source": [
        "### ***Hurrah! You have successfully completed your Machine Learning Capstone Project !!!***"
      ],
      "metadata": {
        "id": "gIfDvo9L0UH2"
      }
    }
  ]
}